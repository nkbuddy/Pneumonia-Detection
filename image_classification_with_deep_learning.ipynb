{
 "cells": [
  {
   "cell_type": "markdown",
   "metadata": {},
   "source": [
    "Final Project Submission <br>\n",
    "Student name: Qilun Chen<br>\n",
    "Student pace: full time<br>\n",
    "Scheduled project review date/time: April/1/2022<br>\n",
    "Instructor name: Praveen Gowtham, Joe Comeaux<br>\n",
    "Blog post URL:https://github.com/nkbuddy/dsc-phase-4-project-Image-Classification-with-Deep-Learning"
   ]
  },
  {
   "cell_type": "markdown",
   "metadata": {},
   "source": [
    "### Table of Contents\n",
    "* [STEP 1: Define the Problem](#Define-the-Problem)\n",
    "* [Step 2: Gather the Data](#Gather-the-Data)\n",
    "* [Step 3: Prepare Data for Consumption](#Prepare-Data-for-Consumption)\n",
    "    * [3.1 Import Libraries](#Import-Libraries)\n",
    "        * [3.11 Load Data Modelling Libraries](#Load-Data-Modelling-Libraries)\n",
    "    * [3.2 Meet and Greet Data](#Meet-and-Greet-Data)\n",
    "        * [3.21 The 4 C's of Data Cleaning: Correcting, Completing, Creating, and Converting](#4C)\n",
    "        * [3.22 Clean Data](#Clean-Data)\n",
    "        * [3.23 Convert Formats](#Convert-Formats)\n",
    "        * [3.24 Da-Double Check Cleaned Data](#Da-Double-Check-Cleaned-Data)\n",
    "        * [3.25 Split Training and Testing Data](#Split-Training-and-Testing-Data)\n",
    "* [Step 4: Perform Exploratory Analysis with Statistics](#Perform-Exploratory-Analysis-with-Statistics)\n",
    "* [Step 5: Model Data](#Model-Data)\n",
    "    * [5.1 Evaluate Model Performance](#Evaluate-Model-Performance)\n",
    "        * [5.11 Model Performance with Cross-Validation (CV)](#CV)\n",
    "        * [5.12 Tune Model with Hyper-Parameters](#Tune-Model-with-Hyper-Parameters)\n",
    "        * [5.13 Tune Model with Feature Selection](#Tune-Model-with-Feature-Selection)\n",
    "* [Step 6: Validate and Implement](#Validate-and-Implement)\n",
    "* [STEP 7: Optimize and Strategize](#Optimize-and-Strategize)"
   ]
  },
  {
   "cell_type": "markdown",
   "metadata": {},
   "source": [
    "# STEP 1: Define the Problem <a class=\"anchor\" id=\"Define-the-Problem\"></a>"
   ]
  },
  {
   "cell_type": "markdown",
   "metadata": {},
   "source": [
    "Identifying whether or not they have pneumonia by Image-Based Deep Learning. Pneumonia is lungs with inflammatory, blackage of the bronchiole, and Alveoli with fluid. When interpreting the x-ray, the radiologist will look for white spots in the lungs (called infiltrates) that identify an infection."
   ]
  },
  {
   "cell_type": "markdown",
   "metadata": {},
   "source": [
    "# Step 2: Gather the Data <a class=\"anchor\" id=\"Gather-the-Data\"></a>"
   ]
  },
  {
   "cell_type": "markdown",
   "metadata": {},
   "source": [
    "This dataset contains thousands of validated Chest X-Ray images  described. The images are split into a training set and a testing set of independent patients. Images are labeled as (disease)-(randomized patient ID)-(image number by this patient) and split into 2 directories: Pneumonia, and NORMAL. The dataset is from Mendeley Data. University of California San Diego, Guangzhou Women and Children's Medical Center. The three contributors are Daniel Kermany, Kang Zhang, Michael Goldbaum."
   ]
  },
  {
   "cell_type": "markdown",
   "metadata": {},
   "source": [
    "# Step 3: Prepare Data for Consumption <a class=\"anchor\" id=\"Prepare-Data-for-Consumption\"></a>"
   ]
  },
  {
   "cell_type": "markdown",
   "metadata": {},
   "source": [
    "## 3.1 Import Libraries <a class=\"anchor\" id=\"Import-Libraries\"></a>"
   ]
  },
  {
   "cell_type": "code",
   "execution_count": 40,
   "metadata": {},
   "outputs": [
    {
     "name": "stdout",
     "output_type": "stream",
     "text": [
      "Requirement already satisfied: pillow in /Users/alanchan/opt/anaconda3/envs/learn-env/lib/python3.8/site-packages (7.2.0)\n"
     ]
    }
   ],
   "source": [
    "import numpy as np\n",
    "import pandas as pd\n",
    "import tensorflow as tf\n",
    "import matplotlib.pyplot as plt\n",
    "from sklearn.model_selection import train_test_split\n",
    "!pip3 install pillow\n",
    "from keras.preprocessing.image import ImageDataGenerator, array_to_img, img_to_array, load_img\n",
    "import os\n",
    "from sklearn.metrics import confusion_matrix\n",
    "from keras.utils.np_utils import to_categorical\n",
    "from sklearn import preprocessing\n",
    "from keras import models\n",
    "from keras import layers\n",
    "from keras import optimizers"
   ]
  },
  {
   "cell_type": "markdown",
   "metadata": {},
   "source": [
    "## 3.11 Load Data Modelling Libraries <a class=\"anchor\" id=\"Load-Data-Modelling-Libraries\"></a>"
   ]
  },
  {
   "cell_type": "code",
   "execution_count": 7,
   "metadata": {},
   "outputs": [
    {
     "name": "stdout",
     "output_type": "stream",
     "text": [
      "Found 624 images belonging to 2 classes.\n",
      "Found 5232 images belonging to 2 classes.\n"
     ]
    }
   ],
   "source": [
    "# Directory path\n",
    "train_data_dir = '/Users/alanchan/Documents/Flatiron/dsc-phase-4-project-Image-Classification-with-Deep-Learning/data/chest_xray/train'\n",
    "test_data_dir = '/Users/alanchan/Documents/Flatiron/dsc-phase-4-project-Image-Classification-with-Deep-Learning/data/chest_xray/test'\n",
    "\n",
    "# Get all the data in the directory data/validation (132 images), and reshape them\n",
    "test_generator = ImageDataGenerator().flow_from_directory(\n",
    "        test_data_dir, \n",
    "        target_size=(64, 64),batch_size = 132)\n",
    "\n",
    "# Get all the data in the directory data/train (790 images), and reshape them\n",
    "train_generator = ImageDataGenerator().flow_from_directory(\n",
    "        train_data_dir, \n",
    "        target_size=(64, 64),batch_size = 790)\n",
    "\n",
    "# Create the datasets\n",
    "train_images, train_labels = next(train_generator)\n",
    "test_images, test_labels = next(test_generator)"
   ]
  },
  {
   "cell_type": "code",
   "execution_count": null,
   "metadata": {},
   "outputs": [],
   "source": [
    "from keras.optimizers import RMSprop"
   ]
  },
  {
   "cell_type": "code",
   "execution_count": 71,
   "metadata": {},
   "outputs": [
    {
     "data": {
      "text/plain": [
       "(790, 64, 64, 3)"
      ]
     },
     "execution_count": 71,
     "metadata": {},
     "output_type": "execute_result"
    }
   ],
   "source": [
    "train_images.shape"
   ]
  },
  {
   "cell_type": "code",
   "execution_count": 8,
   "metadata": {},
   "outputs": [
    {
     "data": {
      "text/plain": [
       "132"
      ]
     },
     "execution_count": 8,
     "metadata": {},
     "output_type": "execute_result"
    }
   ],
   "source": [
    "len(test_images)"
   ]
  },
  {
   "cell_type": "markdown",
   "metadata": {},
   "source": [
    "## 3.2 Meet and Greet Data <a class=\"anchor\" id=\"Meet-and-Greet-Data\"></a>"
   ]
  },
  {
   "cell_type": "code",
   "execution_count": 12,
   "metadata": {},
   "outputs": [
    {
     "data": {
      "image/png": "[encoded data removed]",
      "text/plain": [
       "<PIL.Image.Image image mode=RGB size=64x64 at 0x7FC65041FEE0>"
      ]
     },
     "execution_count": 12,
     "metadata": {},
     "output_type": "execute_result"
    }
   ],
   "source": [
    "array_to_img(train_images[0])"
   ]
  },
  {
   "cell_type": "code",
   "execution_count": 72,
   "metadata": {},
   "outputs": [
    {
     "data": {
      "text/plain": [
       "array([[[ 56.,  56.,  56.],\n",
       "        [ 58.,  58.,  58.],\n",
       "        [ 63.,  63.,  63.],\n",
       "        ...,\n",
       "        [103., 103., 103.],\n",
       "        [ 82.,  82.,  82.],\n",
       "        [104., 104., 104.]],\n",
       "\n",
       "       [[ 58.,  58.,  58.],\n",
       "        [ 74.,  74.,  74.],\n",
       "        [ 79.,  79.,  79.],\n",
       "        ...,\n",
       "        [ 89.,  89.,  89.],\n",
       "        [ 97.,  97.,  97.],\n",
       "        [109., 109., 109.]],\n",
       "\n",
       "       [[ 74.,  74.,  74.],\n",
       "        [110., 110., 110.],\n",
       "        [183., 183., 183.],\n",
       "        ...,\n",
       "        [114., 114., 114.],\n",
       "        [112., 112., 112.],\n",
       "        [117., 117., 117.]],\n",
       "\n",
       "       ...,\n",
       "\n",
       "       [[ 10.,  10.,  10.],\n",
       "        [ 53.,  53.,  53.],\n",
       "        [ 94.,  94.,  94.],\n",
       "        ...,\n",
       "        [ 14.,  14.,  14.],\n",
       "        [ 18.,  18.,  18.],\n",
       "        [ 40.,  40.,  40.]],\n",
       "\n",
       "       [[ 10.,  10.,  10.],\n",
       "        [ 61.,  61.,  61.],\n",
       "        [158., 158., 158.],\n",
       "        ...,\n",
       "        [ 15.,  15.,  15.],\n",
       "        [ 18.,  18.,  18.],\n",
       "        [ 45.,  45.,  45.]],\n",
       "\n",
       "       [[  7.,   7.,   7.],\n",
       "        [ 63.,  63.,  63.],\n",
       "        [139., 139., 139.],\n",
       "        ...,\n",
       "        [ 13.,  13.,  13.],\n",
       "        [ 18.,  18.,  18.],\n",
       "        [ 50.,  50.,  50.]]], dtype=float32)"
      ]
     },
     "execution_count": 72,
     "metadata": {},
     "output_type": "execute_result"
    }
   ],
   "source": [
    "train_images[0]"
   ]
  },
  {
   "cell_type": "code",
   "execution_count": 15,
   "metadata": {},
   "outputs": [
    {
     "name": "stdout",
     "output_type": "stream",
     "text": [
      "(790, 64, 64, 3)\n",
      "(790, 2)\n",
      "(132, 64, 64, 3)\n",
      "(132, 2)\n"
     ]
    }
   ],
   "source": [
    "print(np.shape(train_images))\n",
    "print(np.shape(train_labels))\n",
    "print(np.shape(test_images))\n",
    "print(np.shape(test_labels))"
   ]
  },
  {
   "cell_type": "code",
   "execution_count": 16,
   "metadata": {},
   "outputs": [
    {
     "data": {
      "text/plain": [
       "(12288, 790)"
      ]
     },
     "execution_count": 16,
     "metadata": {},
     "output_type": "execute_result"
    }
   ],
   "source": [
    "train_img_unrow = train_images.reshape(790,-1).T\n",
    "np.shape(train_img_unrow)"
   ]
  },
  {
   "cell_type": "code",
   "execution_count": 17,
   "metadata": {},
   "outputs": [
    {
     "data": {
      "text/plain": [
       "(12288, 132)"
      ]
     },
     "execution_count": 17,
     "metadata": {},
     "output_type": "execute_result"
    }
   ],
   "source": [
    "m = 132\n",
    "test_img_unrow = test_images.reshape(m, -1).T\n",
    "np.shape(test_img_unrow)"
   ]
  },
  {
   "cell_type": "code",
   "execution_count": 18,
   "metadata": {},
   "outputs": [
    {
     "data": {
      "text/plain": [
       "array([[0., 1.],\n",
       "       [0., 1.],\n",
       "       [0., 1.],\n",
       "       ...,\n",
       "       [0., 1.],\n",
       "       [1., 0.],\n",
       "       [0., 1.]], dtype=float32)"
      ]
     },
     "execution_count": 18,
     "metadata": {},
     "output_type": "execute_result"
    }
   ],
   "source": [
    "train_labels "
   ]
  },
  {
   "cell_type": "code",
   "execution_count": 19,
   "metadata": {},
   "outputs": [
    {
     "data": {
      "text/plain": [
       "{'NORMAL': 0, 'PNEUMONIA': 1}"
      ]
     },
     "execution_count": 19,
     "metadata": {},
     "output_type": "execute_result"
    }
   ],
   "source": [
    "train_generator.class_indices "
   ]
  },
  {
   "cell_type": "code",
   "execution_count": 20,
   "metadata": {},
   "outputs": [
    {
     "data": {
      "text/plain": [
       "array([[1., 1., 1., 1., 1., 0., 1., 1., 1., 0., 1., 1., 1., 1., 0., 1.,\n",
       "        0., 1., 0., 1., 1., 1., 1., 0., 1., 1., 1., 0., 0., 1., 1., 1.,\n",
       "        0., 0., 1., 1., 0., 0., 1., 1., 0., 1., 0., 0., 1., 1., 0., 1.,\n",
       "        0., 0., 0., 1., 1., 1., 1., 1., 1., 0., 1., 1., 1., 1., 1., 1.,\n",
       "        0., 1., 0., 1., 1., 0., 1., 0., 0., 0., 1., 1., 1., 1., 1., 1.,\n",
       "        1., 1., 1., 0., 1., 1., 1., 0., 1., 1., 1., 1., 1., 1., 1., 1.,\n",
       "        1., 1., 1., 0., 1., 0., 1., 1., 0., 0., 1., 0., 1., 1., 1., 1.,\n",
       "        1., 1., 1., 1., 1., 0., 0., 0., 0., 1., 1., 1., 1., 1., 1., 1.,\n",
       "        0., 0., 1., 0., 0., 1., 1., 0., 1., 1., 1., 0., 0., 1., 1., 1.,\n",
       "        0., 0., 1., 1., 1., 0., 1., 1., 1., 1., 0., 1., 1., 0., 1., 0.,\n",
       "        1., 1., 1., 1., 1., 1., 0., 1., 1., 1., 1., 1., 1., 1., 1., 1.,\n",
       "        1., 1., 1., 1., 1., 1., 1., 1., 1., 1., 0., 1., 1., 1., 1., 1.,\n",
       "        0., 1., 0., 0., 1., 1., 1., 1., 0., 1., 1., 1., 0., 1., 1., 0.,\n",
       "        1., 0., 1., 1., 1., 1., 0., 1., 1., 1., 1., 1., 1., 0., 1., 1.,\n",
       "        1., 1., 1., 0., 1., 1., 0., 1., 0., 1., 0., 0., 1., 1., 0., 1.,\n",
       "        1., 1., 1., 1., 0., 0., 1., 0., 0., 1., 1., 1., 1., 1., 1., 1.,\n",
       "        1., 1., 1., 1., 0., 1., 1., 0., 1., 0., 0., 1., 1., 1., 1., 1.,\n",
       "        0., 1., 0., 1., 1., 0., 0., 1., 1., 1., 1., 1., 0., 1., 1., 1.,\n",
       "        0., 0., 1., 0., 0., 1., 1., 0., 1., 1., 1., 0., 0., 1., 1., 0.,\n",
       "        0., 1., 1., 1., 1., 1., 1., 1., 1., 0., 0., 0., 1., 1., 1., 0.,\n",
       "        1., 1., 1., 1., 0., 1., 1., 1., 1., 1., 1., 1., 1., 0., 1., 1.,\n",
       "        1., 1., 1., 1., 0., 1., 0., 1., 1., 1., 0., 1., 0., 1., 1., 1.,\n",
       "        1., 1., 1., 1., 1., 0., 1., 1., 1., 1., 0., 0., 1., 1., 1., 1.,\n",
       "        1., 1., 0., 1., 0., 1., 1., 1., 0., 1., 1., 1., 1., 1., 0., 1.,\n",
       "        1., 0., 1., 1., 0., 1., 0., 1., 1., 0., 1., 1., 1., 1., 0., 1.,\n",
       "        1., 1., 1., 1., 1., 1., 1., 0., 0., 1., 1., 0., 1., 1., 0., 1.,\n",
       "        1., 1., 1., 0., 1., 1., 1., 1., 1., 1., 0., 1., 1., 0., 0., 1.,\n",
       "        1., 1., 1., 1., 0., 0., 0., 0., 1., 1., 0., 1., 1., 1., 1., 0.,\n",
       "        1., 0., 1., 1., 1., 0., 1., 1., 1., 0., 1., 0., 1., 0., 1., 1.,\n",
       "        1., 1., 0., 1., 1., 1., 1., 1., 1., 1., 1., 1., 0., 0., 0., 1.,\n",
       "        0., 1., 0., 0., 1., 0., 1., 1., 1., 1., 0., 0., 1., 1., 1., 0.,\n",
       "        0., 1., 1., 1., 1., 1., 0., 1., 0., 1., 0., 1., 1., 0., 0., 0.,\n",
       "        1., 1., 0., 1., 0., 1., 1., 0., 1., 1., 0., 1., 1., 0., 1., 1.,\n",
       "        1., 1., 1., 0., 1., 0., 1., 1., 1., 1., 1., 1., 1., 1., 1., 1.,\n",
       "        0., 0., 1., 1., 1., 1., 1., 0., 1., 0., 1., 1., 1., 1., 1., 1.,\n",
       "        1., 1., 1., 1., 1., 1., 1., 1., 1., 1., 1., 1., 1., 0., 0., 1.,\n",
       "        1., 1., 1., 1., 0., 1., 1., 1., 1., 1., 1., 1., 1., 1., 0., 1.,\n",
       "        0., 0., 1., 1., 0., 0., 0., 0., 1., 1., 0., 0., 1., 0., 1., 1.,\n",
       "        1., 1., 0., 0., 1., 1., 1., 1., 1., 1., 1., 1., 0., 1., 1., 1.,\n",
       "        1., 1., 0., 1., 0., 1., 0., 1., 1., 0., 0., 1., 1., 1., 0., 0.,\n",
       "        1., 1., 0., 1., 1., 1., 0., 1., 0., 1., 0., 1., 1., 1., 1., 1.,\n",
       "        1., 1., 1., 1., 1., 1., 1., 1., 1., 1., 0., 0., 1., 1., 1., 1.,\n",
       "        0., 0., 1., 1., 1., 1., 1., 1., 1., 1., 1., 0., 1., 1., 1., 1.,\n",
       "        1., 0., 1., 1., 0., 1., 1., 1., 0., 0., 0., 0., 1., 1., 1., 0.,\n",
       "        1., 1., 1., 1., 1., 1., 0., 1., 1., 1., 0., 1., 1., 0., 0., 0.,\n",
       "        1., 1., 1., 1., 1., 1., 1., 0., 1., 1., 1., 1., 0., 0., 1., 1.,\n",
       "        1., 1., 1., 1., 1., 1., 0., 1., 1., 1., 1., 0., 1., 1., 1., 1.,\n",
       "        1., 1., 1., 0., 1., 1., 1., 0., 1., 0., 0., 1., 0., 1., 1., 1.,\n",
       "        1., 1., 0., 1., 1., 1., 0., 1., 1., 0., 1., 1., 0., 1., 0., 0.,\n",
       "        1., 1., 0., 1., 0., 1.]], dtype=float32)"
      ]
     },
     "execution_count": 20,
     "metadata": {},
     "output_type": "execute_result"
    }
   ],
   "source": [
    "train_labels_final = train_labels.T[[1]]\n",
    "train_labels_final"
   ]
  },
  {
   "cell_type": "code",
   "execution_count": 21,
   "metadata": {},
   "outputs": [
    {
     "data": {
      "text/plain": [
       "(1, 790)"
      ]
     },
     "execution_count": 21,
     "metadata": {},
     "output_type": "execute_result"
    }
   ],
   "source": [
    "np.shape(train_labels_final) "
   ]
  },
  {
   "cell_type": "code",
   "execution_count": 22,
   "metadata": {},
   "outputs": [
    {
     "data": {
      "text/plain": [
       "(1, 132)"
      ]
     },
     "execution_count": 22,
     "metadata": {},
     "output_type": "execute_result"
    }
   ],
   "source": [
    "test_labels_final = test_labels.T[[1]]\n",
    "np.shape(test_labels_final)"
   ]
  },
  {
   "cell_type": "code",
   "execution_count": 23,
   "metadata": {},
   "outputs": [
    {
     "data": {
      "image/png": "[encoded data removed]",
      "text/plain": [
       "<PIL.Image.Image image mode=RGB size=64x64 at 0x7FC668C55130>"
      ]
     },
     "execution_count": 23,
     "metadata": {},
     "output_type": "execute_result"
    }
   ],
   "source": [
    "array_to_img(train_images[240])"
   ]
  },
  {
   "cell_type": "code",
   "execution_count": 24,
   "metadata": {},
   "outputs": [
    {
     "data": {
      "text/plain": [
       "array([1.], dtype=float32)"
      ]
     },
     "execution_count": 24,
     "metadata": {},
     "output_type": "execute_result"
    }
   ],
   "source": [
    "train_labels_final[:,240]"
   ]
  },
  {
   "cell_type": "code",
   "execution_count": 25,
   "metadata": {},
   "outputs": [
    {
     "data": {
      "text/plain": [
       "numpy.ndarray"
      ]
     },
     "execution_count": 25,
     "metadata": {},
     "output_type": "execute_result"
    }
   ],
   "source": [
    "train_img_final = train_img_unrow/255\n",
    "test_img_final = test_img_unrow/255\n",
    "\n",
    "type(test_img_unrow)"
   ]
  },
  {
   "cell_type": "code",
   "execution_count": 26,
   "metadata": {},
   "outputs": [
    {
     "data": {
      "text/plain": [
       "array([[0.],\n",
       "       [0.],\n",
       "       [0.],\n",
       "       ...,\n",
       "       [0.],\n",
       "       [0.],\n",
       "       [0.]])"
      ]
     },
     "execution_count": 26,
     "metadata": {},
     "output_type": "execute_result"
    }
   ],
   "source": [
    "b = 0\n",
    "def init_w(n):\n",
    "    w = np.zeros((n,1))\n",
    "    return w\n",
    "w = init_w(64*64*3)\n",
    "w"
   ]
  },
  {
   "cell_type": "code",
   "execution_count": 27,
   "metadata": {},
   "outputs": [
    {
     "name": "stdout",
     "output_type": "stream",
     "text": [
      "[[-0.01266683 -0.0137978  -0.01108348 ... -0.01425019 -0.00588103\n",
      "  -0.00610722]\n",
      " [-0.01266683 -0.0137978  -0.01108348 ... -0.01425019 -0.00588103\n",
      "  -0.00610722]\n",
      " [-0.01266683 -0.0137978  -0.01108348 ... -0.01425019 -0.00588103\n",
      "  -0.00610722]\n",
      " ...\n",
      " [-0.00616462 -0.00332889 -0.00382206 ... -0.00345219 -0.\n",
      "  -0.        ]\n",
      " [-0.00616462 -0.00332889 -0.00382206 ... -0.00345219 -0.\n",
      "  -0.        ]\n",
      " [-0.00616462 -0.00332889 -0.00382206 ... -0.00345219 -0.\n",
      "  -0.        ]]\n",
      "-0.22025316455696203\n",
      "0.6931471805599452\n"
     ]
    }
   ],
   "source": [
    "def propagation(w,b,x,y):\n",
    "    l = x.shape[1]\n",
    "    y_hat = 1/(1+np.exp(-(np.dot(w.T,x) + b)))\n",
    "    cost = -(1/l) * np.sum(y*np.log(y_hat) + (1-y)*np.log(1-y_hat))\n",
    "    dw = (1/l) * x * np.dot(x,(y_hat - y).T)\n",
    "    db = (1/l) * np.sum(y_hat-y)\n",
    "    return dw, db, cost\n",
    "dw, db, cost = propagation(w,b,train_img_final,train_labels_final)\n",
    "print(dw)\n",
    "\n",
    "print(db)\n",
    "\n",
    "print(cost)"
   ]
  },
  {
   "cell_type": "code",
   "execution_count": 28,
   "metadata": {},
   "outputs": [
    {
     "name": "stdout",
     "output_type": "stream",
     "text": [
      "Cost after iteration 0: 0.693147\n",
      "Cost after iteration 50: 466.980962\n",
      "Cost after iteration 100: 463.228383\n",
      "Cost after iteration 150: 459.785701\n"
     ]
    }
   ],
   "source": [
    "def optimization(w, b, x, y, num_iterations, learning_rate, print_cost = False):\n",
    "    \n",
    "    costs = []\n",
    "    \n",
    "    for i in range(num_iterations):\n",
    "        dw, db, cost = propagation(w,b,x,y)\n",
    "        w = w - learning_rate * dw\n",
    "        b = b - learning_rate * db\n",
    "        \n",
    "        # Record the costs and print them every 50 iterations\n",
    "        if i % 50 == 0:\n",
    "            costs.append(cost)\n",
    "        if print_cost and i % 50 == 0:\n",
    "            print (\"Cost after iteration %i: %f\" %(i, cost))\n",
    "    \n",
    "    return w, b, costs\n",
    "w, b, costs = optimization(w, b, train_img_final, train_labels_final, \n",
    "                           num_iterations= 151, learning_rate = 0.0001, print_cost = True)"
   ]
  },
  {
   "cell_type": "code",
   "execution_count": 29,
   "metadata": {},
   "outputs": [],
   "source": [
    "def prediction(w, b, x):\n",
    "    l = x.shape[1]\n",
    "    y_prediction = np.zeros((1,l))\n",
    "    w = w.reshape(x.shape[0], -1)\n",
    "    y_hat = 1/(1+np.exp(-(np.dot(w.T,x) + b)))\n",
    "    p = y_hat\n",
    "    \n",
    "    for i in range(y_hat.shape[1]):\n",
    "        # Transform the probability into a binary classification using 0.5 as the cutoff\n",
    "        if (y_hat[0,i]>0.5):\n",
    "            y_prediction[0,i] = 1\n",
    "        else:\n",
    "            y_prediction[0,i] = 0\n",
    "    return y_prediction"
   ]
  },
  {
   "cell_type": "code",
   "execution_count": 30,
   "metadata": {},
   "outputs": [],
   "source": [
    "def model(x_train, y_train, x_test, y_test, num_iterations = 2000, learning_rate = 0.5, print_cost = False):\n",
    "\n",
    "    b = 0\n",
    "    w = init_w(np.shape(x_train)[0]) \n",
    "\n",
    "    # Gradient descent (≈ 1 line of code)\n",
    "    w, b, costs = optimization(w, b, x_train, y_train, num_iterations, learning_rate, print_cost)\n",
    "    \n",
    "    y_pred_test = prediction(w, b, x_test)\n",
    "    y_pred_train = prediction(w, b, x_train)\n",
    "\n",
    "    # Print train/test errors\n",
    "    print('train accuracy: {} %'.format(100 - np.mean(np.abs(y_pred_train - y_train)) * 100))\n",
    "    print('test accuracy: {} %'.format(100 - np.mean(np.abs(y_pred_test - y_test)) * 100))\n",
    "\n",
    "    output = {'costs': costs, \n",
    "              'y_pred_test': y_pred_test,  \n",
    "              'y_pred_train' : y_pred_train,  \n",
    "              'w' : w, \n",
    "              'b' : b, \n",
    "              'learning_rate' : learning_rate, \n",
    "              'num_iterations': num_iterations}\n",
    "    \n",
    "    return output"
   ]
  },
  {
   "cell_type": "code",
   "execution_count": 99,
   "metadata": {},
   "outputs": [
    {
     "name": "stdout",
     "output_type": "stream",
     "text": [
      "Cost after iteration 0: 0.693147\n",
      "Cost after iteration 50: 444.554360\n",
      "Cost after iteration 100: 343.585840\n",
      "Cost after iteration 150: 259.836130\n",
      "Cost after iteration 200: 218.749406\n",
      "Cost after iteration 250: 203.459279\n",
      "Cost after iteration 300: 191.573915\n",
      "Cost after iteration 350: 181.986557\n",
      "Cost after iteration 400: 174.037728\n",
      "Cost after iteration 450: 167.303890\n",
      "Cost after iteration 500: 161.499786\n",
      "Cost after iteration 550: 156.425664\n",
      "Cost after iteration 600: 151.937048\n",
      "Cost after iteration 650: 147.926555\n",
      "Cost after iteration 700: 144.312502\n",
      "Cost after iteration 750: 141.031506\n",
      "Cost after iteration 800: 138.033525\n",
      "Cost after iteration 850: 135.278452\n",
      "Cost after iteration 900: 132.733708\n",
      "Cost after iteration 950: 130.372521\n",
      "train accuracy: 95.9493670886076 %\n",
      "test accuracy: 88.63636363636364 %\n"
     ]
    }
   ],
   "source": [
    "output = model(train_img_final, train_labels_final, test_img_final, test_labels_final,\n",
    "               num_iterations=1000, learning_rate=0.005, print_cost=True)"
   ]
  },
  {
   "cell_type": "code",
   "execution_count": 32,
   "metadata": {},
   "outputs": [
    {
     "data": {
      "text/plain": [
       "12288"
      ]
     },
     "execution_count": 32,
     "metadata": {},
     "output_type": "execute_result"
    }
   ],
   "source": [
    "train_img_final.shape[0]"
   ]
  },
  {
   "cell_type": "markdown",
   "metadata": {},
   "source": [
    "### 3.21 The 4 C's of Data Cleaning: Correcting, Completing, Creating, and Converting <a class=\"anchor\" id=\"4C\"></a>"
   ]
  },
  {
   "cell_type": "code",
   "execution_count": 91,
   "metadata": {},
   "outputs": [
    {
     "name": "stdout",
     "output_type": "stream",
     "text": [
      "Test label shape: (1, 132)\n",
      "Train label shape: (1, 790)\n",
      "Test shape: (12288, 132)\n",
      "Train shape: (12288, 790)\n"
     ]
    }
   ],
   "source": [
    "print('Test label shape:', np.shape(test_labels_final))\n",
    "print('Train label shape:', np.shape(train_labels_final))\n",
    "print('Test shape:', np.shape(test_img_final))\n",
    "print('Train shape:', np.shape(train_img_final))"
   ]
  },
  {
   "cell_type": "code",
   "execution_count": 92,
   "metadata": {},
   "outputs": [],
   "source": [
    "second_model_train_labels = train_labels_final.reshape(-1, train_labels_final.shape[0])\n",
    "second_model_test_labels = test_labels_final.reshape(-1, test_labels_final.shape[0])\n",
    "second_model_train = train_img_final.reshape(-1, train_img_final.shape[0])\n",
    "second_model_test = test_img_final.reshape(-1, test_img_final.shape[0])"
   ]
  },
  {
   "cell_type": "code",
   "execution_count": 93,
   "metadata": {},
   "outputs": [
    {
     "name": "stdout",
     "output_type": "stream",
     "text": [
      "Test label shape: (132, 1)\n",
      "Train label shape: (790, 1)\n",
      "Test shape: (132, 12288)\n",
      "Train shape: (790, 12288)\n"
     ]
    }
   ],
   "source": [
    "print('Test label shape:', np.shape(second_model_test_labels))\n",
    "print('Train label shape:', np.shape(second_model_train_labels))\n",
    "print('Test shape:', np.shape(second_model_test))\n",
    "print('Train shape:', np.shape(second_model_train))"
   ]
  },
  {
   "cell_type": "code",
   "execution_count": 94,
   "metadata": {},
   "outputs": [
    {
     "data": {
      "text/plain": [
       "(790, 12288)"
      ]
     },
     "execution_count": 94,
     "metadata": {},
     "output_type": "execute_result"
    }
   ],
   "source": [
    "layers.Flatten()\n",
    "np.shape(second_model_train)"
   ]
  },
  {
   "cell_type": "code",
   "execution_count": 100,
   "metadata": {},
   "outputs": [],
   "source": [
    "second_model = models.Sequential()\n",
    "\n",
    "# Two layers with relu activation\n",
    "second_model.add(layers.Dense(4096,activation='relu', input_shape=(12288,)))\n",
    "second_model.add(layers.Dense(64,activation='relu'))\n",
    "\n",
    "# One layer with softmax activation \n",
    "second_model.add(layers.Dense(1,activation='sigmoid'))"
   ]
  },
  {
   "cell_type": "code",
   "execution_count": 101,
   "metadata": {},
   "outputs": [],
   "source": [
    "second_model.compile(optimizer='SGD',\n",
    "             loss = 'binary_crossentropy',\n",
    "             metrics=['acc'])"
   ]
  },
  {
   "cell_type": "code",
   "execution_count": 106,
   "metadata": {},
   "outputs": [
    {
     "name": "stdout",
     "output_type": "stream",
     "text": [
      "Epoch 1/120\n",
      "4/4 [==============================] - 1s 177ms/step - loss: 0.7630 - acc: 0.7253 - val_loss: 0.7616 - val_acc: 0.6288\n",
      "Epoch 2/120\n",
      "4/4 [==============================] - 1s 146ms/step - loss: 0.5184 - acc: 0.7582 - val_loss: 0.7069 - val_acc: 0.4773\n",
      "Epoch 3/120\n",
      "4/4 [==============================] - 1s 140ms/step - loss: 0.5858 - acc: 0.6797 - val_loss: 0.7208 - val_acc: 0.6288\n",
      "Epoch 4/120\n",
      "4/4 [==============================] - 1s 139ms/step - loss: 0.5314 - acc: 0.7278 - val_loss: 0.6908 - val_acc: 0.6288\n",
      "Epoch 5/120\n",
      "4/4 [==============================] - 1s 138ms/step - loss: 0.5465 - acc: 0.7367 - val_loss: 0.7125 - val_acc: 0.6288\n",
      "Epoch 6/120\n",
      "4/4 [==============================] - 1s 138ms/step - loss: 0.5063 - acc: 0.7354 - val_loss: 0.7455 - val_acc: 0.3864\n",
      "Epoch 7/120\n",
      "4/4 [==============================] - 1s 145ms/step - loss: 0.6275 - acc: 0.6392 - val_loss: 0.7665 - val_acc: 0.6288\n",
      "Epoch 8/120\n",
      "4/4 [==============================] - 1s 137ms/step - loss: 0.5329 - acc: 0.7228 - val_loss: 0.6847 - val_acc: 0.6288\n",
      "Epoch 9/120\n",
      "4/4 [==============================] - 1s 138ms/step - loss: 0.5251 - acc: 0.7316 - val_loss: 0.6992 - val_acc: 0.6288\n",
      "Epoch 10/120\n",
      "4/4 [==============================] - 1s 135ms/step - loss: 0.5365 - acc: 0.7291 - val_loss: 0.7298 - val_acc: 0.6288\n",
      "Epoch 11/120\n",
      "4/4 [==============================] - 1s 138ms/step - loss: 0.4960 - acc: 0.7304 - val_loss: 0.8364 - val_acc: 0.6288\n",
      "Epoch 12/120\n",
      "4/4 [==============================] - 1s 134ms/step - loss: 0.4860 - acc: 0.7316 - val_loss: 0.7229 - val_acc: 0.6288\n",
      "Epoch 13/120\n",
      "4/4 [==============================] - 1s 135ms/step - loss: 0.5202 - acc: 0.7608 - val_loss: 0.7055 - val_acc: 0.5758\n",
      "Epoch 14/120\n",
      "4/4 [==============================] - 1s 141ms/step - loss: 0.5251 - acc: 0.7519 - val_loss: 0.8928 - val_acc: 0.6288\n",
      "Epoch 15/120\n",
      "4/4 [==============================] - 1s 136ms/step - loss: 0.5243 - acc: 0.7747 - val_loss: 0.7999 - val_acc: 0.6288\n",
      "Epoch 16/120\n",
      "4/4 [==============================] - 1s 135ms/step - loss: 0.4650 - acc: 0.7354 - val_loss: 0.7977 - val_acc: 0.6288\n",
      "Epoch 17/120\n",
      "4/4 [==============================] - 1s 137ms/step - loss: 0.5181 - acc: 0.7620 - val_loss: 0.7659 - val_acc: 0.6288\n",
      "Epoch 18/120\n",
      "4/4 [==============================] - 1s 135ms/step - loss: 0.4783 - acc: 0.7304 - val_loss: 0.7434 - val_acc: 0.6288\n",
      "Epoch 19/120\n",
      "4/4 [==============================] - 1s 137ms/step - loss: 0.5039 - acc: 0.7734 - val_loss: 0.8622 - val_acc: 0.6288\n",
      "Epoch 20/120\n",
      "4/4 [==============================] - 1s 138ms/step - loss: 0.4868 - acc: 0.7456 - val_loss: 0.9016 - val_acc: 0.6288\n",
      "Epoch 21/120\n",
      "4/4 [==============================] - 1s 143ms/step - loss: 0.4895 - acc: 0.7532 - val_loss: 0.8376 - val_acc: 0.6288\n",
      "Epoch 22/120\n",
      "4/4 [==============================] - 1s 138ms/step - loss: 0.4704 - acc: 0.7430 - val_loss: 1.0075 - val_acc: 0.6288\n",
      "Epoch 23/120\n",
      "4/4 [==============================] - 1s 140ms/step - loss: 0.4978 - acc: 0.7418 - val_loss: 0.8073 - val_acc: 0.6288\n",
      "Epoch 24/120\n",
      "4/4 [==============================] - 1s 140ms/step - loss: 0.4458 - acc: 0.7443 - val_loss: 0.7694 - val_acc: 0.4091\n",
      "Epoch 25/120\n",
      "4/4 [==============================] - 1s 137ms/step - loss: 0.5830 - acc: 0.6506 - val_loss: 0.9908 - val_acc: 0.6288\n",
      "Epoch 26/120\n",
      "4/4 [==============================] - 1s 139ms/step - loss: 0.5291 - acc: 0.7367 - val_loss: 0.7453 - val_acc: 0.6288\n",
      "Epoch 27/120\n",
      "4/4 [==============================] - 1s 135ms/step - loss: 0.4739 - acc: 0.7595 - val_loss: 0.7235 - val_acc: 0.5455\n",
      "Epoch 28/120\n",
      "4/4 [==============================] - 1s 138ms/step - loss: 0.5156 - acc: 0.7646 - val_loss: 0.8312 - val_acc: 0.6288\n",
      "Epoch 29/120\n",
      "4/4 [==============================] - 1s 145ms/step - loss: 0.4821 - acc: 0.7646 - val_loss: 1.0654 - val_acc: 0.6288\n",
      "Epoch 30/120\n",
      "4/4 [==============================] - 1s 153ms/step - loss: 0.5277 - acc: 0.7734 - val_loss: 0.9527 - val_acc: 0.6288\n",
      "Epoch 31/120\n",
      "4/4 [==============================] - 1s 170ms/step - loss: 0.4830 - acc: 0.7532 - val_loss: 0.8789 - val_acc: 0.6288\n",
      "Epoch 32/120\n",
      "4/4 [==============================] - 1s 160ms/step - loss: 0.4761 - acc: 0.7747 - val_loss: 0.8901 - val_acc: 0.6288\n",
      "Epoch 33/120\n",
      "4/4 [==============================] - 1s 158ms/step - loss: 0.4774 - acc: 0.7443 - val_loss: 0.7998 - val_acc: 0.6288\n",
      "Epoch 34/120\n",
      "4/4 [==============================] - 1s 157ms/step - loss: 0.4531 - acc: 0.7418 - val_loss: 1.0304 - val_acc: 0.6288\n",
      "Epoch 35/120\n",
      "4/4 [==============================] - 1s 156ms/step - loss: 0.5336 - acc: 0.7139 - val_loss: 0.9469 - val_acc: 0.6288\n",
      "Epoch 36/120\n",
      "4/4 [==============================] - 1s 151ms/step - loss: 0.5101 - acc: 0.7684 - val_loss: 0.7272 - val_acc: 0.6136\n",
      "Epoch 37/120\n",
      "4/4 [==============================] - 1s 154ms/step - loss: 0.5101 - acc: 0.8291 - val_loss: 0.7094 - val_acc: 0.6212\n",
      "Epoch 38/120\n",
      "4/4 [==============================] - 1s 164ms/step - loss: 0.5065 - acc: 0.7899 - val_loss: 1.1859 - val_acc: 0.6288\n",
      "Epoch 39/120\n",
      "4/4 [==============================] - 1s 155ms/step - loss: 0.5505 - acc: 0.7975 - val_loss: 0.7098 - val_acc: 0.6288\n",
      "Epoch 40/120\n",
      "4/4 [==============================] - 1s 158ms/step - loss: 0.4579 - acc: 0.7722 - val_loss: 1.0054 - val_acc: 0.6288\n",
      "Epoch 41/120\n",
      "4/4 [==============================] - 1s 150ms/step - loss: 0.5092 - acc: 0.7443 - val_loss: 0.7525 - val_acc: 0.6288\n",
      "Epoch 42/120\n",
      "4/4 [==============================] - 1s 152ms/step - loss: 0.4512 - acc: 0.7671 - val_loss: 0.7218 - val_acc: 0.5833\n",
      "Epoch 43/120\n",
      "4/4 [==============================] - 1s 154ms/step - loss: 0.5421 - acc: 0.7646 - val_loss: 0.7189 - val_acc: 0.5379\n",
      "Epoch 44/120\n",
      "4/4 [==============================] - 1s 152ms/step - loss: 0.5360 - acc: 0.7797 - val_loss: 0.7197 - val_acc: 0.6288\n",
      "Epoch 45/120\n",
      "4/4 [==============================] - 1s 155ms/step - loss: 0.4841 - acc: 0.7911 - val_loss: 0.7187 - val_acc: 0.6288\n",
      "Epoch 46/120\n",
      "4/4 [==============================] - 1s 151ms/step - loss: 0.5025 - acc: 0.8329 - val_loss: 0.7267 - val_acc: 0.6288\n",
      "Epoch 47/120\n",
      "4/4 [==============================] - 1s 153ms/step - loss: 0.4874 - acc: 0.8190 - val_loss: 0.7284 - val_acc: 0.4924\n",
      "Epoch 48/120\n",
      "4/4 [==============================] - 1s 155ms/step - loss: 0.4914 - acc: 0.7139 - val_loss: 0.9244 - val_acc: 0.6288\n",
      "Epoch 49/120\n",
      "4/4 [==============================] - 1s 154ms/step - loss: 0.4820 - acc: 0.7734 - val_loss: 0.8103 - val_acc: 0.6288\n",
      "Epoch 50/120\n",
      "4/4 [==============================] - 1s 170ms/step - loss: 0.4311 - acc: 0.7646 - val_loss: 1.0369 - val_acc: 0.6288\n",
      "Epoch 51/120\n",
      "4/4 [==============================] - 1s 161ms/step - loss: 0.5852 - acc: 0.6532 - val_loss: 1.0108 - val_acc: 0.6288\n",
      "Epoch 52/120\n",
      "4/4 [==============================] - 1s 155ms/step - loss: 0.5235 - acc: 0.7468 - val_loss: 0.7219 - val_acc: 0.6288\n",
      "Epoch 53/120\n",
      "4/4 [==============================] - 1s 158ms/step - loss: 0.5026 - acc: 0.8329 - val_loss: 0.9549 - val_acc: 0.6288\n",
      "Epoch 54/120\n",
      "4/4 [==============================] - 1s 152ms/step - loss: 0.4800 - acc: 0.7595 - val_loss: 0.8613 - val_acc: 0.6288\n",
      "Epoch 55/120\n",
      "4/4 [==============================] - 1s 162ms/step - loss: 0.4317 - acc: 0.7506 - val_loss: 1.2697 - val_acc: 0.6288\n",
      "Epoch 56/120\n",
      "4/4 [==============================] - 1s 153ms/step - loss: 0.5636 - acc: 0.7734 - val_loss: 0.7027 - val_acc: 0.6288\n",
      "Epoch 57/120\n",
      "4/4 [==============================] - 1s 159ms/step - loss: 0.4700 - acc: 0.7722 - val_loss: 0.8369 - val_acc: 0.6288\n",
      "Epoch 58/120\n",
      "4/4 [==============================] - 1s 172ms/step - loss: 0.4705 - acc: 0.8025 - val_loss: 0.9273 - val_acc: 0.6288\n",
      "Epoch 59/120\n",
      "4/4 [==============================] - 1s 192ms/step - loss: 0.4608 - acc: 0.7658 - val_loss: 0.8151 - val_acc: 0.6288\n",
      "Epoch 60/120\n",
      "4/4 [==============================] - 1s 200ms/step - loss: 0.4499 - acc: 0.7823 - val_loss: 1.0276 - val_acc: 0.6288\n",
      "Epoch 61/120\n",
      "4/4 [==============================] - 1s 226ms/step - loss: 0.4712 - acc: 0.7949 - val_loss: 1.0486 - val_acc: 0.6288\n",
      "Epoch 62/120\n",
      "4/4 [==============================] - 1s 254ms/step - loss: 0.5192 - acc: 0.7354 - val_loss: 0.7491 - val_acc: 0.6288\n",
      "Epoch 63/120\n",
      "4/4 [==============================] - 1s 276ms/step - loss: 0.4524 - acc: 0.8266 - val_loss: 0.7377 - val_acc: 0.6288\n",
      "Epoch 64/120\n",
      "4/4 [==============================] - 1s 359ms/step - loss: 0.5375 - acc: 0.7570 - val_loss: 0.7630 - val_acc: 0.6288\n",
      "Epoch 65/120\n",
      "4/4 [==============================] - 2s 502ms/step - loss: 0.4741 - acc: 0.8038 - val_loss: 0.7379 - val_acc: 0.6288\n",
      "Epoch 66/120\n",
      "4/4 [==============================] - 5s 1s/step - loss: 0.4370 - acc: 0.8025 - val_loss: 0.7779 - val_acc: 0.3333\n",
      "Epoch 67/120\n",
      "4/4 [==============================] - 5s 1s/step - loss: 0.5921 - acc: 0.6797 - val_loss: 0.9439 - val_acc: 0.6288\n",
      "Epoch 68/120\n",
      "4/4 [==============================] - 5s 1s/step - loss: 0.4503 - acc: 0.7532 - val_loss: 0.8289 - val_acc: 0.6288\n",
      "Epoch 69/120\n",
      "4/4 [==============================] - 6s 2s/step - loss: 0.4324 - acc: 0.7620 - val_loss: 1.8555 - val_acc: 0.6288\n",
      "Epoch 70/120\n",
      "4/4 [==============================] - 6s 1s/step - loss: 0.6505 - acc: 0.7582 - val_loss: 1.2444 - val_acc: 0.6288\n",
      "Epoch 71/120\n",
      "4/4 [==============================] - 5s 1s/step - loss: 0.5218 - acc: 0.7658 - val_loss: 0.7388 - val_acc: 0.6288\n",
      "Epoch 72/120\n",
      "4/4 [==============================] - 3s 825ms/step - loss: 0.4491 - acc: 0.8241 - val_loss: 0.8808 - val_acc: 0.6288\n",
      "Epoch 73/120\n",
      "4/4 [==============================] - 2s 413ms/step - loss: 0.4176 - acc: 0.7671 - val_loss: 1.0196 - val_acc: 0.6288\n",
      "Epoch 74/120\n",
      "4/4 [==============================] - 1s 309ms/step - loss: 0.4529 - acc: 0.7924 - val_loss: 0.7513 - val_acc: 0.6364\n",
      "Epoch 75/120\n",
      "4/4 [==============================] - 1s 262ms/step - loss: 0.6080 - acc: 0.7089 - val_loss: 0.8081 - val_acc: 0.6288\n",
      "Epoch 76/120\n",
      "4/4 [==============================] - 1s 252ms/step - loss: 0.4706 - acc: 0.8051 - val_loss: 0.7364 - val_acc: 0.4167\n",
      "Epoch 77/120\n",
      "4/4 [==============================] - 1s 230ms/step - loss: 0.5374 - acc: 0.7291 - val_loss: 0.7199 - val_acc: 0.6288\n",
      "Epoch 78/120\n",
      "4/4 [==============================] - 1s 218ms/step - loss: 0.4361 - acc: 0.8000 - val_loss: 0.7731 - val_acc: 0.6288\n",
      "Epoch 79/120\n",
      "4/4 [==============================] - 1s 218ms/step - loss: 0.4117 - acc: 0.7810 - val_loss: 1.1268 - val_acc: 0.6288\n",
      "Epoch 80/120\n",
      "4/4 [==============================] - 1s 205ms/step - loss: 0.5042 - acc: 0.7924 - val_loss: 1.0849 - val_acc: 0.6288\n",
      "Epoch 81/120\n",
      "4/4 [==============================] - 1s 188ms/step - loss: 0.4156 - acc: 0.7734 - val_loss: 1.3747 - val_acc: 0.6288\n",
      "Epoch 82/120\n",
      "4/4 [==============================] - 1s 178ms/step - loss: 0.5585 - acc: 0.7468 - val_loss: 0.8969 - val_acc: 0.6288\n",
      "Epoch 83/120\n",
      "4/4 [==============================] - 1s 177ms/step - loss: 0.4365 - acc: 0.7759 - val_loss: 0.7248 - val_acc: 0.5227\n",
      "Epoch 84/120\n",
      "4/4 [==============================] - 1s 173ms/step - loss: 0.5106 - acc: 0.7266 - val_loss: 0.8503 - val_acc: 0.6288\n",
      "Epoch 85/120\n",
      "4/4 [==============================] - 1s 175ms/step - loss: 0.4464 - acc: 0.7747 - val_loss: 0.9646 - val_acc: 0.6288\n",
      "Epoch 86/120\n",
      "4/4 [==============================] - 1s 173ms/step - loss: 0.4558 - acc: 0.7848 - val_loss: 0.8262 - val_acc: 0.6288\n",
      "Epoch 87/120\n",
      "4/4 [==============================] - 1s 164ms/step - loss: 0.3979 - acc: 0.7785 - val_loss: 1.0970 - val_acc: 0.6288\n",
      "Epoch 88/120\n",
      "4/4 [==============================] - 1s 162ms/step - loss: 0.4842 - acc: 0.7127 - val_loss: 1.0624 - val_acc: 0.6288\n",
      "Epoch 89/120\n",
      "4/4 [==============================] - 1s 164ms/step - loss: 0.4723 - acc: 0.7506 - val_loss: 1.1000 - val_acc: 0.6288\n",
      "Epoch 90/120\n",
      "4/4 [==============================] - 1s 174ms/step - loss: 0.4903 - acc: 0.7304 - val_loss: 0.7655 - val_acc: 0.6212\n",
      "Epoch 91/120\n",
      "4/4 [==============================] - 1s 166ms/step - loss: 0.5380 - acc: 0.7810 - val_loss: 0.8243 - val_acc: 0.6288\n",
      "Epoch 92/120\n",
      "4/4 [==============================] - 1s 176ms/step - loss: 0.4150 - acc: 0.7747 - val_loss: 0.7483 - val_acc: 0.6288\n",
      "Epoch 93/120\n",
      "4/4 [==============================] - 1s 166ms/step - loss: 0.4976 - acc: 0.8101 - val_loss: 0.7349 - val_acc: 0.6288\n",
      "Epoch 94/120\n",
      "4/4 [==============================] - 1s 172ms/step - loss: 0.4434 - acc: 0.8291 - val_loss: 0.7878 - val_acc: 0.3939\n",
      "Epoch 95/120\n",
      "4/4 [==============================] - 1s 164ms/step - loss: 0.5105 - acc: 0.6620 - val_loss: 1.1386 - val_acc: 0.6288\n",
      "Epoch 96/120\n",
      "4/4 [==============================] - 1s 177ms/step - loss: 0.5344 - acc: 0.7177 - val_loss: 0.8950 - val_acc: 0.6288\n",
      "Epoch 97/120\n",
      "4/4 [==============================] - 1s 164ms/step - loss: 0.4122 - acc: 0.7709 - val_loss: 0.9709 - val_acc: 0.6288\n",
      "Epoch 98/120\n",
      "4/4 [==============================] - 1s 167ms/step - loss: 0.4435 - acc: 0.8114 - val_loss: 0.9929 - val_acc: 0.6288\n",
      "Epoch 99/120\n",
      "4/4 [==============================] - 1s 171ms/step - loss: 0.4786 - acc: 0.7519 - val_loss: 0.9722 - val_acc: 0.6288\n",
      "Epoch 100/120\n",
      "4/4 [==============================] - 1s 190ms/step - loss: 0.4188 - acc: 0.7861 - val_loss: 1.0062 - val_acc: 0.6288\n",
      "Epoch 101/120\n",
      "4/4 [==============================] - 1s 164ms/step - loss: 0.4994 - acc: 0.7532 - val_loss: 0.9481 - val_acc: 0.6288\n",
      "Epoch 102/120\n",
      "4/4 [==============================] - 1s 172ms/step - loss: 0.3848 - acc: 0.7937 - val_loss: 0.9374 - val_acc: 0.6288\n",
      "Epoch 103/120\n",
      "4/4 [==============================] - 1s 167ms/step - loss: 0.5164 - acc: 0.7785 - val_loss: 0.8312 - val_acc: 0.6288\n",
      "Epoch 104/120\n",
      "4/4 [==============================] - 1s 173ms/step - loss: 0.4298 - acc: 0.7911 - val_loss: 0.7425 - val_acc: 0.6288\n",
      "Epoch 105/120\n",
      "4/4 [==============================] - 1s 182ms/step - loss: 0.4016 - acc: 0.8127 - val_loss: 1.1889 - val_acc: 0.6288\n",
      "Epoch 106/120\n",
      "4/4 [==============================] - 1s 172ms/step - loss: 0.5285 - acc: 0.7696 - val_loss: 0.8863 - val_acc: 0.6288\n",
      "Epoch 107/120\n",
      "4/4 [==============================] - 1s 175ms/step - loss: 0.4392 - acc: 0.8215 - val_loss: 0.9212 - val_acc: 0.6288\n",
      "Epoch 108/120\n",
      "4/4 [==============================] - 1s 177ms/step - loss: 0.4209 - acc: 0.8139 - val_loss: 1.2270 - val_acc: 0.6288\n",
      "Epoch 109/120\n",
      "4/4 [==============================] - 1s 177ms/step - loss: 0.4551 - acc: 0.7975 - val_loss: 0.7686 - val_acc: 0.4848\n",
      "Epoch 110/120\n",
      "4/4 [==============================] - 1s 177ms/step - loss: 0.4648 - acc: 0.7937 - val_loss: 1.2348 - val_acc: 0.6288\n",
      "Epoch 111/120\n",
      "4/4 [==============================] - 1s 179ms/step - loss: 0.5099 - acc: 0.7392 - val_loss: 0.9820 - val_acc: 0.6288\n",
      "Epoch 112/120\n",
      "4/4 [==============================] - 1s 176ms/step - loss: 0.4199 - acc: 0.8342 - val_loss: 0.7497 - val_acc: 0.6288\n",
      "Epoch 113/120\n",
      "4/4 [==============================] - 1s 185ms/step - loss: 0.4552 - acc: 0.8506 - val_loss: 0.7991 - val_acc: 0.6288\n",
      "Epoch 114/120\n",
      "4/4 [==============================] - 1s 185ms/step - loss: 0.3755 - acc: 0.8139 - val_loss: 0.7769 - val_acc: 0.6288\n",
      "Epoch 115/120\n",
      "4/4 [==============================] - 1s 200ms/step - loss: 0.5082 - acc: 0.7633 - val_loss: 0.8115 - val_acc: 0.6288\n",
      "Epoch 116/120\n",
      "4/4 [==============================] - 1s 185ms/step - loss: 0.4148 - acc: 0.8190 - val_loss: 1.1240 - val_acc: 0.6288\n",
      "Epoch 117/120\n",
      "4/4 [==============================] - 1s 183ms/step - loss: 0.4849 - acc: 0.7392 - val_loss: 0.7826 - val_acc: 0.6288\n",
      "Epoch 118/120\n",
      "4/4 [==============================] - 1s 179ms/step - loss: 0.4634 - acc: 0.8127 - val_loss: 0.7688 - val_acc: 0.4091\n",
      "Epoch 119/120\n",
      "4/4 [==============================] - 1s 192ms/step - loss: 0.4937 - acc: 0.7051 - val_loss: 0.7334 - val_acc: 0.4697\n",
      "Epoch 120/120\n",
      "4/4 [==============================] - 1s 190ms/step - loss: 0.4791 - acc: 0.7443 - val_loss: 0.7314 - val_acc: 0.6288\n"
     ]
    }
   ],
   "source": [
    "history = second_model.fit(second_model_train,\n",
    "                   second_model_train_labels,\n",
    "                   epochs=120,\n",
    "                   batch_size=256,\n",
    "                   validation_data=(second_model_test,second_model_test_labels))"
   ]
  },
  {
   "cell_type": "markdown",
   "metadata": {},
   "source": [
    "### 3.22 Clean Data <a class=\"anchor\" id=\"Clean-Data\"></a>"
   ]
  },
  {
   "cell_type": "code",
   "execution_count": 107,
   "metadata": {},
   "outputs": [],
   "source": [
    "train_dir = '/Users/alanchan/Documents/Flatiron/dsc-phase-4-project-Image-Classification-with-Deep-Learning/data/chest_xray/train'\n",
    "test_dir = '/Users/alanchan/Documents/Flatiron/dsc-phase-4-project-Image-Classification-with-Deep-Learning/data/chest_xray/test' "
   ]
  },
  {
   "cell_type": "code",
   "execution_count": 108,
   "metadata": {},
   "outputs": [],
   "source": [
    "from keras.preprocessing.image import ImageDataGenerator\n",
    "import datetime\n",
    "\n",
    "original_start = datetime.datetime.now()\n",
    "start = datetime.datetime.now()"
   ]
  },
  {
   "cell_type": "code",
   "execution_count": 110,
   "metadata": {},
   "outputs": [
    {
     "name": "stdout",
     "output_type": "stream",
     "text": [
      "Found 5232 images belonging to 2 classes.\n",
      "Found 624 images belonging to 2 classes.\n"
     ]
    }
   ],
   "source": [
    "train_datagen = ImageDataGenerator(rescale=1./255)\n",
    "val_datagen = ImageDataGenerator(rescale=1./255)\n",
    "\n",
    "train_generator = train_datagen.flow_from_directory(\n",
    "        # This is the target directory\n",
    "        train_dir,\n",
    "        # All images will be resized to 150x150\n",
    "        target_size=(150, 150),\n",
    "        batch_size=20,\n",
    "        # Since we use binary_crossentropy loss, we need binary labels\n",
    "        class_mode='binary')\n",
    "\n",
    "validation_generator = val_datagen.flow_from_directory(test_dir,\n",
    "                                                        target_size=(150, 150),\n",
    "                                                        batch_size=20,\n",
    "                                                        class_mode='binary')"
   ]
  },
  {
   "cell_type": "code",
   "execution_count": 111,
   "metadata": {},
   "outputs": [],
   "source": [
    "from keras import layers\n",
    "from keras import models\n",
    "\n",
    "model = models.Sequential()\n",
    "model.add(layers.Conv2D(32, (3, 3), activation='relu',\n",
    "                        input_shape=(150, 150, 3)))\n",
    "model.add(layers.MaxPooling2D((2, 2)))\n",
    "model.add(layers.Conv2D(64, (3, 3), activation='relu'))\n",
    "model.add(layers.MaxPooling2D((2, 2)))\n",
    "model.add(layers.Conv2D(128, (3, 3), activation='relu'))\n",
    "model.add(layers.MaxPooling2D((2, 2)))\n",
    "model.add(layers.Conv2D(128, (3, 3), activation='relu'))\n",
    "model.add(layers.MaxPooling2D((2, 2)))\n",
    "model.add(layers.Flatten())\n",
    "model.add(layers.Dense(512, activation='relu'))\n",
    "model.add(layers.Dense(1, activation='sigmoid'))"
   ]
  },
  {
   "cell_type": "code",
   "execution_count": 112,
   "metadata": {},
   "outputs": [],
   "source": [
    "from keras import optimizers\n",
    "\n",
    "model.compile(loss='binary_crossentropy',\n",
    "              optimizer=optimizers.RMSprop(lr=1e-4),\n",
    "              metrics=['acc'])"
   ]
  },
  {
   "cell_type": "code",
   "execution_count": 113,
   "metadata": {},
   "outputs": [
    {
     "name": "stdout",
     "output_type": "stream",
     "text": [
      "Epoch 1/30\n",
      "100/100 [==============================] - 43s 431ms/step - loss: 0.4855 - acc: 0.7785 - val_loss: 0.4330 - val_acc: 0.7775\n",
      "Epoch 2/30\n",
      "100/100 [==============================] - 85s 851ms/step - loss: 0.2774 - acc: 0.8810 - val_loss: 0.2900 - val_acc: 0.8600\n",
      "Epoch 3/30\n",
      "100/100 [==============================] - 58s 582ms/step - loss: 0.1841 - acc: 0.9295 - val_loss: 0.3753 - val_acc: 0.8350\n",
      "Epoch 4/30\n",
      "100/100 [==============================] - 64s 636ms/step - loss: 0.1464 - acc: 0.9440 - val_loss: 0.4062 - val_acc: 0.8325\n",
      "Epoch 5/30\n",
      "100/100 [==============================] - 64s 640ms/step - loss: 0.1315 - acc: 0.9478 - val_loss: 0.3152 - val_acc: 0.8900\n",
      "Epoch 6/30\n",
      "100/100 [==============================] - 68s 675ms/step - loss: 0.1107 - acc: 0.9588 - val_loss: 0.8823 - val_acc: 0.7500\n",
      "Epoch 7/30\n",
      "100/100 [==============================] - 65s 646ms/step - loss: 0.1040 - acc: 0.9598 - val_loss: 0.5641 - val_acc: 0.8125\n",
      "Epoch 8/30\n",
      "100/100 [==============================] - 65s 650ms/step - loss: 0.1071 - acc: 0.9645 - val_loss: 0.3413 - val_acc: 0.8800\n",
      "Epoch 9/30\n",
      "100/100 [==============================] - 64s 639ms/step - loss: 0.0977 - acc: 0.9635 - val_loss: 0.3997 - val_acc: 0.8775\n",
      "Epoch 10/30\n",
      "100/100 [==============================] - 65s 653ms/step - loss: 0.0986 - acc: 0.9650 - val_loss: 0.2928 - val_acc: 0.8875\n",
      "Epoch 11/30\n",
      "100/100 [==============================] - 63s 633ms/step - loss: 0.0775 - acc: 0.9675 - val_loss: 0.5341 - val_acc: 0.8550\n",
      "Epoch 12/30\n",
      "100/100 [==============================] - 63s 634ms/step - loss: 0.0794 - acc: 0.9700 - val_loss: 0.2955 - val_acc: 0.9050\n",
      "Epoch 13/30\n",
      "100/100 [==============================] - 61s 612ms/step - loss: 0.0635 - acc: 0.9740 - val_loss: 0.6789 - val_acc: 0.8075\n",
      "Epoch 14/30\n",
      "100/100 [==============================] - 61s 613ms/step - loss: 0.0630 - acc: 0.9769 - val_loss: 0.5302 - val_acc: 0.8325\n",
      "Epoch 15/30\n",
      "100/100 [==============================] - 61s 611ms/step - loss: 0.0672 - acc: 0.9729 - val_loss: 1.2300 - val_acc: 0.7400\n",
      "Epoch 16/30\n",
      "100/100 [==============================] - 61s 606ms/step - loss: 0.0663 - acc: 0.9750 - val_loss: 0.2915 - val_acc: 0.9150\n",
      "Epoch 17/30\n",
      "100/100 [==============================] - 61s 610ms/step - loss: 0.0626 - acc: 0.9775 - val_loss: 0.9420 - val_acc: 0.7650\n",
      "Epoch 18/30\n",
      "100/100 [==============================] - 61s 607ms/step - loss: 0.0556 - acc: 0.9794 - val_loss: 0.4548 - val_acc: 0.8775\n",
      "Epoch 19/30\n",
      "100/100 [==============================] - 59s 590ms/step - loss: 0.0475 - acc: 0.9849 - val_loss: 0.2808 - val_acc: 0.9000\n",
      "Epoch 20/30\n",
      "100/100 [==============================] - 58s 582ms/step - loss: 0.0505 - acc: 0.9830 - val_loss: 0.9780 - val_acc: 0.8050\n",
      "Epoch 21/30\n",
      "100/100 [==============================] - 57s 574ms/step - loss: 0.0437 - acc: 0.9850 - val_loss: 0.5345 - val_acc: 0.8725\n",
      "Epoch 22/30\n",
      "100/100 [==============================] - 57s 568ms/step - loss: 0.0540 - acc: 0.9795 - val_loss: 0.5337 - val_acc: 0.8550\n",
      "Epoch 23/30\n",
      "100/100 [==============================] - 57s 570ms/step - loss: 0.0444 - acc: 0.9819 - val_loss: 0.6110 - val_acc: 0.8525\n",
      "Epoch 24/30\n",
      "100/100 [==============================] - 57s 569ms/step - loss: 0.0507 - acc: 0.9824 - val_loss: 0.6272 - val_acc: 0.8450\n",
      "Epoch 25/30\n",
      "100/100 [==============================] - 59s 595ms/step - loss: 0.0411 - acc: 0.9849 - val_loss: 0.4263 - val_acc: 0.8925\n",
      "Epoch 26/30\n",
      "100/100 [==============================] - 60s 596ms/step - loss: 0.0356 - acc: 0.9869 - val_loss: 0.5999 - val_acc: 0.8625\n",
      "Epoch 27/30\n",
      "100/100 [==============================] - 60s 601ms/step - loss: 0.0293 - acc: 0.9870 - val_loss: 0.6324 - val_acc: 0.8450\n",
      "Epoch 28/30\n",
      "100/100 [==============================] - 60s 601ms/step - loss: 0.0411 - acc: 0.9850 - val_loss: 0.4739 - val_acc: 0.8800\n",
      "Epoch 29/30\n",
      "100/100 [==============================] - 54s 542ms/step - loss: 0.0258 - acc: 0.9885 - val_loss: 0.6346 - val_acc: 0.8625\n",
      "Epoch 30/30\n",
      "100/100 [==============================] - 54s 542ms/step - loss: 0.0413 - acc: 0.9835 - val_loss: 0.7023 - val_acc: 0.8450\n"
     ]
    }
   ],
   "source": [
    "history = model.fit(train_generator, \n",
    "                              steps_per_epoch=100, \n",
    "                              epochs=30, \n",
    "                              validation_data=validation_generator, \n",
    "                              validation_steps=20)"
   ]
  },
  {
   "cell_type": "code",
   "execution_count": 114,
   "metadata": {},
   "outputs": [
    {
     "data": {
      "image/png": "[encoded data removed]",
      "text/plain": [
       "<Figure size 432x288 with 1 Axes>"
      ]
     },
     "metadata": {
      "needs_background": "light"
     },
     "output_type": "display_data"
    },
    {
     "data": {
      "image/png": "[encoded data removed]",
      "text/plain": [
       "<Figure size 432x288 with 1 Axes>"
      ]
     },
     "metadata": {
      "needs_background": "light"
     },
     "output_type": "display_data"
    }
   ],
   "source": [
    "import matplotlib.pyplot as plt\n",
    "%matplotlib inline \n",
    "\n",
    "acc = history.history['acc']\n",
    "val_acc = history.history['val_acc']\n",
    "loss = history.history['loss']\n",
    "val_loss = history.history['val_loss']\n",
    "epochs = range(len(acc))\n",
    "plt.plot(epochs, acc, 'bo', label='Training acc')\n",
    "plt.plot(epochs, val_acc, 'b', label='Validation acc')\n",
    "plt.title('Training and validation accuracy')\n",
    "plt.legend()\n",
    "plt.figure()\n",
    "plt.plot(epochs, loss, 'bo', label='Training loss')\n",
    "plt.plot(epochs, val_loss, 'b', label='Validation loss')\n",
    "plt.title('Training and validation loss')\n",
    "plt.legend()\n",
    "plt.show()"
   ]
  },
  {
   "cell_type": "code",
   "execution_count": 116,
   "metadata": {},
   "outputs": [
    {
     "name": "stdout",
     "output_type": "stream",
     "text": [
      "Training took a total of 0:32:24.736698\n"
     ]
    }
   ],
   "source": [
    "end = datetime.datetime.now()\n",
    "elapsed = end - start\n",
    "print('Training took a total of {}'.format(elapsed))"
   ]
  },
  {
   "cell_type": "code",
   "execution_count": 117,
   "metadata": {},
   "outputs": [
    {
     "name": "stdout",
     "output_type": "stream",
     "text": [
      "(132,)\n",
      "(624,)\n"
     ]
    }
   ],
   "source": [
    "preds = model.predict(validation_generator, batch_size=16)\n",
    "preds = np.argmax(preds, axis=-1)\n",
    "\n",
    "# Original labels\n",
    "orig_test_labels = np.argmax(test_labels, axis=-1)\n",
    "\n",
    "print(orig_test_labels.shape)\n",
    "print(preds.shape)"
   ]
  },
  {
   "cell_type": "code",
   "execution_count": null,
   "metadata": {},
   "outputs": [],
   "source": [
    "cm  = confusion_matrix(orig_test_labels, preds)\n",
    "plt.figure()\n",
    "plot_confusion_matrix(cm,figsize=(12,8), hide_ticks=True, alpha=0.7,cmap=plt.cm.Blues)\n",
    "plt.xticks(range(2), ['Normal', 'Pneumonia'], fontsize=16)\n",
    "plt.yticks(range(2), ['Normal', 'Pneumonia'], fontsize=16)\n",
    "plt.show()"
   ]
  },
  {
   "cell_type": "markdown",
   "metadata": {},
   "source": [
    "### 3.23 Convert Formats <a class=\"anchor\" id=\"Convert-Formats\"></a>"
   ]
  },
  {
   "cell_type": "markdown",
   "metadata": {},
   "source": [
    "### 3.24 Da-Double Check Cleaned Data <a class=\"anchor\" id=\"Da-Double-Check-Cleaned-Data\"></a>"
   ]
  },
  {
   "cell_type": "markdown",
   "metadata": {},
   "source": [
    "### 3.25 Split Training and Testing Data <a class=\"anchor\" id=\"Split-Training-and-Testing-Data\"></a>"
   ]
  },
  {
   "cell_type": "markdown",
   "metadata": {},
   "source": [
    "# Step 4: Perform Exploratory Analysis with Statistics <a class=\"anchor\" id=\"Perform-Exploratory-Analysis-with-Statistics\"></a>"
   ]
  },
  {
   "cell_type": "markdown",
   "metadata": {},
   "source": [
    "# Step 5: Model Data <a class=\"anchor\" id=\"Model-Data\"></a>"
   ]
  },
  {
   "cell_type": "markdown",
   "metadata": {},
   "source": [
    "### 5.11 Model Performance with Cross-Validation (CV) <a class=\"anchor\" id=\"CV\"></a>"
   ]
  },
  {
   "cell_type": "markdown",
   "metadata": {},
   "source": [
    "### 5.12 Tune Model with Hyper-Parameters <a class=\"anchor\" id=\"Tune-Model-with-Hyper-Parameters\"></a>"
   ]
  },
  {
   "cell_type": "markdown",
   "metadata": {},
   "source": [
    "### 5.13 Tune Model with Feature Selection <a class=\"anchor\" id=\"Tune-Model-with-Feature-Selection\"></a>"
   ]
  },
  {
   "cell_type": "markdown",
   "metadata": {},
   "source": [
    "# Step 6: Validate and Implement <a class=\"anchor\" id=\"Validate-and-Implement\"></a>"
   ]
  },
  {
   "cell_type": "markdown",
   "metadata": {},
   "source": [
    "# Step 7: Optimize and Strategize<a class=\"anchor\" id=\"Optimize-and-Strategize\"></a>"
   ]
  },
  {
   "cell_type": "code",
   "execution_count": null,
   "metadata": {},
   "outputs": [],
   "source": []
  }
 ],
 "metadata": {
  "interpreter": {
   "hash": "2700375e02ad74d7fa19bf39b9bbaacee623ff18e8d83a1c706494d7922e527a"
  },
  "kernelspec": {
   "display_name": "Python 3",
   "language": "python",
   "name": "python3"
  },
  "language_info": {
   "codemirror_mode": {
    "name": "ipython",
    "version": 3
   },
   "file_extension": ".py",
   "mimetype": "text/x-python",
   "name": "python",
   "nbconvert_exporter": "python",
   "pygments_lexer": "ipython3",
   "version": "3.8.5"
  }
 },
 "nbformat": 4,
 "nbformat_minor": 4
}

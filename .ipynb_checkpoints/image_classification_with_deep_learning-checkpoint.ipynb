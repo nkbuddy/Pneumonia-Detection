{
 "cells": [
  {
   "cell_type": "markdown",
   "metadata": {},
   "source": [
    "Final Project Submission <br>\n",
    "Student name: Qilun Chen<br>\n",
    "Student pace: full time<br>\n",
    "Scheduled project review date/time: April/1/2022<br>\n",
    "Instructor name: Praveen Gowtham, Joe Comeaux<br>\n",
    "Blog post URL:https://github.com/nkbuddy/dsc-phase-4-project-Image-Classification-with-Deep-Learning"
   ]
  },
  {
   "cell_type": "markdown",
   "metadata": {},
   "source": [
    "### Table of Contents\n",
    "* [STEP 1: Define the Problem](#Define-the-Problem)\n",
    "* [Step 2: Gather the Data](#Gather-the-Data)\n",
    "* [Step 3: Prepare Data for Consumption](#Prepare-Data-for-Consumption)\n",
    "    * [3.1 Import Libraries](#Import-Libraries)\n",
    "        * [3.11 Load Data Modelling Libraries](#Load-Data-Modelling-Libraries)\n",
    "    * [3.2 Meet and Greet Data](#Meet-and-Greet-Data)\n",
    "        * [3.21 The 4 C's of Data Cleaning: Correcting, Completing, Creating, and Converting](#4C)\n",
    "        * [3.22 Clean Data](#Clean-Data)\n",
    "        * [3.23 Convert Formats](#Convert-Formats)\n",
    "        * [3.24 Da-Double Check Cleaned Data](#Da-Double-Check-Cleaned-Data)\n",
    "        * [3.25 Split Training and Testing Data](#Split-Training-and-Testing-Data)\n",
    "* [Step 4: Perform Exploratory Analysis with Statistics](#Perform-Exploratory-Analysis-with-Statistics)\n",
    "* [Step 5: Model Data](#Model-Data)\n",
    "    * [5.1 Evaluate Model Performance](#Evaluate-Model-Performance)\n",
    "        * [5.11 Model Performance with Cross-Validation (CV)](#CV)\n",
    "        * [5.12 Tune Model with Hyper-Parameters](#Tune-Model-with-Hyper-Parameters)\n",
    "        * [5.13 Tune Model with Feature Selection](#Tune-Model-with-Feature-Selection)\n",
    "* [Step 6: Validate and Implement](#Validate-and-Implement)\n",
    "* [STEP 7: Optimize and Strategize](#Optimize-and-Strategize)"
   ]
  },
  {
   "cell_type": "markdown",
   "metadata": {},
   "source": [
    "# STEP 1: Define the Problem <a class=\"anchor\" id=\"Define-the-Problem\"></a>"
   ]
  },
  {
   "cell_type": "markdown",
   "metadata": {},
   "source": [
    "Identifying whether or not they have pneumonia by Image-Based Deep Learning. Pneumonia is lungs with inflammatory, blackage of the bronchiole, and Alveoli with fluid. When interpreting the x-ray, the radiologist will look for white spots in the lungs (called infiltrates) that identify an infection."
   ]
  },
  {
   "cell_type": "markdown",
   "metadata": {},
   "source": [
    "# Step 2: Gather the Data <a class=\"anchor\" id=\"Gather-the-Data\"></a>"
   ]
  },
  {
   "cell_type": "markdown",
   "metadata": {},
   "source": [
    "This dataset contains thousands of validated Chest X-Ray images  described. The images are split into a training set and a testing set of independent patients. Images are labeled as (disease)-(randomized patient ID)-(image number by this patient) and split into 2 directories: Pneumonia, and NORMAL. The dataset is from University of California San Diego, Guangzhou Women and Children's Medical Center. The three contributors are Daniel Kermany, Kang Zhang, Michael Goldbaum."
   ]
  },
  {
   "cell_type": "markdown",
   "metadata": {},
   "source": [
    "# Step 3: Prepare Data for Consumption <a class=\"anchor\" id=\"Prepare-Data-for-Consumption\"></a>"
   ]
  },
  {
   "cell_type": "markdown",
   "metadata": {},
   "source": [
    "## 3.1 Import Libraries <a class=\"anchor\" id=\"Import-Libraries\"></a>"
   ]
  },
  {
   "cell_type": "code",
   "execution_count": 29,
   "metadata": {},
   "outputs": [
    {
     "name": "stdout",
     "output_type": "stream",
     "text": [
      "Requirement already satisfied: pillow in /Users/alanchan/opt/anaconda3/envs/learn-env/lib/python3.8/site-packages (7.2.0)\r\n"
     ]
    }
   ],
   "source": [
    "import numpy as np\n",
    "import pandas as pd\n",
    "import tensorflow as tf\n",
    "import matplotlib.pyplot as plt\n",
    "from sklearn.model_selection import train_test_split\n",
    "!pip install pillow\n",
    "from keras.preprocessing.image import ImageDataGenerator, array_to_img, img_to_array, load_img\n",
    "import os\n",
    "from sklearn.metrics import confusion_matrix"
   ]
  },
  {
   "cell_type": "markdown",
   "metadata": {},
   "source": [
    "## 3.11 Load Data Modelling Libraries <a class=\"anchor\" id=\"Load-Data-Modelling-Libraries\"></a>"
   ]
  },
  {
   "cell_type": "code",
   "execution_count": 60,
   "metadata": {},
   "outputs": [
    {
     "name": "stdout",
     "output_type": "stream",
     "text": [
      "Found 624 images belonging to 2 classes.\n",
      "Found 5232 images belonging to 2 classes.\n"
     ]
    }
   ],
   "source": [
    "# Directory path\n",
    "train_data_dir = '/Users/alanchan/Downloads/CellData/chest_xray/train'\n",
    "test_data_dir = '/Users/alanchan/Downloads/CellData/chest_xray/test'\n",
    "\n",
    "# Get all the data in the directory data/validation (132 images), and reshape them\n",
    "test_generator = ImageDataGenerator().flow_from_directory(\n",
    "        test_data_dir, \n",
    "        target_size=(64, 64),batch_size = 132)\n",
    "\n",
    "# Get all the data in the directory data/train (790 images), and reshape them\n",
    "train_generator = ImageDataGenerator().flow_from_directory(\n",
    "        train_data_dir, \n",
    "        target_size=(64, 64),batch_size = 1000)\n",
    "\n",
    "# Create the datasets\n",
    "train_images, train_labels = next(train_generator)\n",
    "test_images, test_labels = next(test_generator)"
   ]
  },
  {
   "cell_type": "code",
   "execution_count": 64,
   "metadata": {},
   "outputs": [
    {
     "data": {
      "text/plain": [
       "132"
      ]
     },
     "execution_count": 64,
     "metadata": {},
     "output_type": "execute_result"
    }
   ],
   "source": [
    "len(test_images)"
   ]
  },
  {
   "cell_type": "markdown",
   "metadata": {},
   "source": [
    "## 3.2 Meet and Greet Data <a class=\"anchor\" id=\"Meet-and-Greet-Data\"></a>"
   ]
  },
  {
   "cell_type": "code",
   "execution_count": 61,
   "metadata": {},
   "outputs": [
    {
     "data": {
      "image/png": "[encoded data removed]",
      "text/plain": [
       "<PIL.Image.Image image mode=RGB size=64x64 at 0x7F901BF6AD90>"
      ]
     },
     "execution_count": 61,
     "metadata": {},
     "output_type": "execute_result"
    }
   ],
   "source": [
    "array_to_img(train_images[0])"
   ]
  },
  {
   "cell_type": "code",
   "execution_count": 54,
   "metadata": {},
   "outputs": [
    {
     "data": {
      "text/plain": [
       "array([[[ 1.,  1.,  1.],\n",
       "        [ 0.,  0.,  0.],\n",
       "        [ 0.,  0.,  0.],\n",
       "        ...,\n",
       "        [20., 20., 20.],\n",
       "        [19., 19., 19.],\n",
       "        [20., 20., 20.]],\n",
       "\n",
       "       [[ 4.,  4.,  4.],\n",
       "        [ 3.,  3.,  3.],\n",
       "        [ 0.,  0.,  0.],\n",
       "        ...,\n",
       "        [19., 19., 19.],\n",
       "        [20., 20., 20.],\n",
       "        [20., 20., 20.]],\n",
       "\n",
       "       [[ 5.,  5.,  5.],\n",
       "        [ 4.,  4.,  4.],\n",
       "        [ 0.,  0.,  0.],\n",
       "        ...,\n",
       "        [18., 18., 18.],\n",
       "        [20., 20., 20.],\n",
       "        [21., 21., 21.]],\n",
       "\n",
       "       ...,\n",
       "\n",
       "       [[ 7.,  7.,  7.],\n",
       "        [10., 10., 10.],\n",
       "        [ 7.,  7.,  7.],\n",
       "        ...,\n",
       "        [14., 14., 14.],\n",
       "        [15., 15., 15.],\n",
       "        [15., 15., 15.]],\n",
       "\n",
       "       [[ 7.,  7.,  7.],\n",
       "        [ 9.,  9.,  9.],\n",
       "        [ 7.,  7.,  7.],\n",
       "        ...,\n",
       "        [14., 14., 14.],\n",
       "        [15., 15., 15.],\n",
       "        [15., 15., 15.]],\n",
       "\n",
       "       [[ 6.,  6.,  6.],\n",
       "        [ 7.,  7.,  7.],\n",
       "        [ 6.,  6.,  6.],\n",
       "        ...,\n",
       "        [14., 14., 14.],\n",
       "        [14., 14., 14.],\n",
       "        [15., 15., 15.]]], dtype=float32)"
      ]
     },
     "execution_count": 54,
     "metadata": {},
     "output_type": "execute_result"
    }
   ],
   "source": [
    "train_images[0]"
   ]
  },
  {
   "cell_type": "code",
   "execution_count": 55,
   "metadata": {},
   "outputs": [
    {
     "data": {
      "text/plain": [
       "array([ 10., 145.,  85.,   9.,   9.,   0., 114.,   0.,   9.,   0., 203.,\n",
       "        59.,  49.,   6.,  44.,   0.,  57.,   6., 123.,  15.,   0.,   0.,\n",
       "         0.,  21., 175.,  31.,   3.,  87.,   0.,  42., 129.,  25.,  21.,\n",
       "       111.,   0.,  79., 138.,  50.,   3.,   0.,   0.,   7.,  93.,  28.,\n",
       "        49.,   0.,  90.,  42.,  25., 118.,  83.,   0.,   7., 115.,  66.,\n",
       "        19.,  84.,  27.,   0.,   0.,  56.,   0.,  30.,   9., 206.,  94.,\n",
       "         0.,  50.,   0.,  52.,  52.,  70., 141.,  14.,  75.,  24.,  33.,\n",
       "        51.,   0.,  25.,   0., 181.,  21.,   6.,  29.,  43.,   0.,   0.,\n",
       "        41.,  82.,  77., 118., 207.,  46., 255.,   0.,  33., 174.,  16.,\n",
       "        25.,  56.,  25.,  44.,  17.,  44.,   3., 125.,  17.,  48.,   3.,\n",
       "        40.,   9.,   2.,   2.,  23.,   0., 200.,   0.,   0., 125.,  19.,\n",
       "        94.,   0.,   0., 158.,  50.,  51.,   0.,  93.,  45.,  16.,  10.,\n",
       "        63.,   0.,  15.,  71.,  12.,   0., 160.,   0.,  28.,  36.,   0.,\n",
       "        20.,  25.,  49.,   0.,  38.,  50.,  54.,  54.,   0.,  10., 122.,\n",
       "       221.,  69.,   0.,   0.,  51.,  16.,  42.,  53., 159.,  40.,  47.,\n",
       "        21., 120.,  88., 112.,   7.,   0.,   2.,  21.,  36.,  40.,  49.,\n",
       "        49.,  42.,   0.,   0.,  83., 199.,   2.,  23.,  31.,   0., 134.,\n",
       "        33.,  16.,  98., 130.,  70., 255.,   2.,  25.,  76.,  57.,   0.,\n",
       "        39.,  80.,  25.,  52.,  46.,  40.,  33.,  76., 177.,  33.,  48.,\n",
       "       124.,   0.,  39.,  78., 195., 113.,  52.,   2., 189.,  63.,  51.,\n",
       "       146.,   0., 201.,   1.,  27.,  49.,  95.,   0.,  43.,  20.,   2.,\n",
       "         5.,  31., 127.,  65.,  94.,  39., 135.,  92.,  39.,  50.,  48.,\n",
       "       130.,   8.,  31., 144.,  77.,  92.,  25., 160.,  97.,  20.,   0.,\n",
       "        76.,   0.,   9.,  53., 116.,  43., 220.,  58.,  99.,  28.,   0.,\n",
       "        25.,  37.,  42.,   3.,  28.,   0.,  66.,   0.,  54.,   0.,  45.,\n",
       "        47.,  57.,  62.,  27.,  44.,   6.,  46.,  39.,   2.,  63.,  57.,\n",
       "       102.,   0.,  21.,  25.,   0.,  20.,   8.,   0.,  56.,  87.,   0.,\n",
       "        42.,  71.,  22.,  78., 101.,  53.,   8.,  14.,  38.,  77.,   1.,\n",
       "        50.,  45.,  43., 138.,   0., 205.,   0.,  39.,   0.,  47.,  53.,\n",
       "         0.,   0.,  46.,  48.,   0.,  57.,   0.,  24.,  33.,   0.,   8.,\n",
       "        77.,  42.,  51.,  67.,  71.,  10.,  24.,  62.,  35.,  19.,  48.,\n",
       "         0., 197.,  31., 133.,  71., 101.,  52.,  23.,  75.,  50.,  74.,\n",
       "         0.,  12., 135.,   0.,  60., 163.,  82., 103.,   0.,   0., 173.,\n",
       "        42., 134.,  53.,  21., 119.,   3.,   0.,  11.,  10.,  59.,  17.,\n",
       "       104., 121.,   0.,  12.,  28.,  80.,   0.,  92.,  43.,  64.,  44.,\n",
       "        26.,   4.,  43.,   2.,   2., 168.,  27., 210.,   0.,  66., 143.,\n",
       "        51., 255.,  43., 116.,  49.,  54.,  30.,  81., 197., 104.,  14.,\n",
       "       107., 210.,  81.,  92.,  37.,  25.,   2., 135.,   0.,  93.,  39.,\n",
       "         2.,  23.,   2.,  14.,  46.,  11.,  68.,  60.,  49.,  47.,  16.,\n",
       "        19.,  47.,  44.,  12.,   5.,  47.,  25., 107., 173.,  67., 125.,\n",
       "        15.,  33.,  65.,   0.,  11., 143.,  48.,  26.,  19.,  38.,  45.,\n",
       "       187.,  51.,  34., 195., 126.,   0.,  28.,   9.,  83.,  29.,  31.,\n",
       "        28.,  61.,  86.,  20.,   8.,   0.,  85., 184.,  24.,  97.,  40.,\n",
       "        58.,  71.,  26.,   0.,  11., 255.,  41.,  50.,  49., 112.,  60.,\n",
       "        80.,  15.,   0., 221.,  58.,   0.,   0.,   0.,  32.,  74., 144.,\n",
       "         0.,  54.,  57.,  44.,  23.,   0.,   0., 224.,  94.,  40.,  64.,\n",
       "         0.,   0.,  91.,  14.,   0.,  95.,  95.,   0.,  61.,  16.,  25.,\n",
       "        53.,   7.,  23., 157.,  68.,  64.,   5.,   4.,   0.,  88.,   9.,\n",
       "         1.,  10.,  99.,   0.,  48., 189.,  29., 173.,  29.,   0.,  53.,\n",
       "        33.,  54.,  74.,   0.,  26.,   1.,   4.,   1.,  36.,  95.,  77.,\n",
       "         6.,  38.,  36.,  97.,  34.,   3.,   0.,   0., 188.,  59.,  60.,\n",
       "        22., 134.,   7.,  83., 255.,   0.,  62.,  72.,  13.,  53.,  47.,\n",
       "        53., 138.,   0.,  67., 120.,   0.,  41.,  50.,  85.,   1.,   0.,\n",
       "         0., 255.,   0.,   3.,   5.,  17.,  24., 115.,   6.,  15.,  52.,\n",
       "        64.,  94.,   3.,  23.,  18.,  15.,  35.,  69.,  10.,  40.,  22.,\n",
       "       202.,  67.,  98.,  50.,  18.,   1.,  18., 195.,  17., 155.,  74.,\n",
       "        25.,  25.,  33.,   7.,   0.,   0., 101.,  82.,  51.,  37., 115.,\n",
       "         0.,  19.,   0.,  87.,  18.,  45.,  40.,  70.,  39.,  39.,  75.,\n",
       "        82., 146.,   0.,  46.,  66.,  80.,   4., 115.,  11.,  77.,  67.,\n",
       "         0., 210., 109.,   0.,   0.,   0.,  27., 194.,  43.,   0.,  32.,\n",
       "        41., 177.,  77.,   0., 122.,  11.,  65.,  51.,  55.,  10.,  75.,\n",
       "       190.,   0.,   0.,  39.,   0., 120., 101.,   0.,   0.,  45.,  31.,\n",
       "        58.,  91., 140.,  59.,  53.,  14.,  82.,   0.,  45.,   0.,  38.,\n",
       "       208.,  34.,  15.,  39.,  15.,  56.,  17.,   0.,  86., 255.,  44.,\n",
       "       124.,  60.,  65.,  59.,  42.,  71.,   0., 255.,  36., 160.,  37.,\n",
       "        47.,  11.,   0.,  38., 146.,  88.,  27.,  10.,  59.,  18.,  72.,\n",
       "        28.,  95.,  31.,  41., 184.,  37., 108.,  17.,  83.,  90.,   9.,\n",
       "         0.,  98., 100.,  41.,  90., 183.,  70.,  43.,  14.,  87.,   0.,\n",
       "         0., 119.,  30.,  42.,  49.,  40.,  33.,  53.,   0.,  56.,  57.,\n",
       "        60.,   2.,  24.,  26., 255.,  91.,  67.,   0.,  34.,  29.,  63.,\n",
       "        47.,  53.,   0.,  49.,   2., 107.,  38.,  42.,  55.,  32.,   6.,\n",
       "         0.,  17.,  40.,   0.,  17.,  18.,  20.,  53.,  29.],\n",
       "      dtype=float32)"
      ]
     },
     "execution_count": 55,
     "metadata": {},
     "output_type": "execute_result"
    }
   ],
   "source": [
    "train_img_unrow[0]"
   ]
  },
  {
   "cell_type": "code",
   "execution_count": 65,
   "metadata": {},
   "outputs": [
    {
     "name": "stdout",
     "output_type": "stream",
     "text": [
      "(790, 64, 64, 3)\n",
      "(790, 2)\n",
      "(132, 64, 64, 3)\n",
      "(132, 2)\n"
     ]
    }
   ],
   "source": [
    "print(np.shape(train_images))\n",
    "print(np.shape(train_labels))\n",
    "print(np.shape(test_images))\n",
    "print(np.shape(test_labels))"
   ]
  },
  {
   "cell_type": "code",
   "execution_count": 66,
   "metadata": {},
   "outputs": [
    {
     "data": {
      "text/plain": [
       "(12288, 790)"
      ]
     },
     "execution_count": 66,
     "metadata": {},
     "output_type": "execute_result"
    }
   ],
   "source": [
    "train_img_unrow = train_images.reshape(790,-1).T\n",
    "np.shape(train_img_unrow)"
   ]
  },
  {
   "cell_type": "code",
   "execution_count": 67,
   "metadata": {},
   "outputs": [
    {
     "data": {
      "text/plain": [
       "(12288, 132)"
      ]
     },
     "execution_count": 67,
     "metadata": {},
     "output_type": "execute_result"
    }
   ],
   "source": [
    "m = 132\n",
    "test_img_unrow = test_images.reshape(m, -1).T\n",
    "np.shape(test_img_unrow)"
   ]
  },
  {
   "cell_type": "code",
   "execution_count": 41,
   "metadata": {},
   "outputs": [
    {
     "data": {
      "text/plain": [
       "array([[1., 0.],\n",
       "       [0., 1.],\n",
       "       [0., 1.],\n",
       "       [0., 1.],\n",
       "       [1., 0.],\n",
       "       [1., 0.],\n",
       "       [0., 1.],\n",
       "       [0., 1.],\n",
       "       [0., 1.],\n",
       "       [0., 1.],\n",
       "       [1., 0.],\n",
       "       [0., 1.],\n",
       "       [1., 0.],\n",
       "       [0., 1.],\n",
       "       [0., 1.],\n",
       "       [0., 1.],\n",
       "       [0., 1.],\n",
       "       [1., 0.],\n",
       "       [1., 0.],\n",
       "       [1., 0.],\n",
       "       [0., 1.],\n",
       "       [0., 1.],\n",
       "       [0., 1.],\n",
       "       [0., 1.],\n",
       "       [0., 1.],\n",
       "       [0., 1.],\n",
       "       [0., 1.],\n",
       "       [0., 1.],\n",
       "       [0., 1.],\n",
       "       [0., 1.],\n",
       "       [0., 1.],\n",
       "       [0., 1.]], dtype=float32)"
      ]
     },
     "execution_count": 41,
     "metadata": {},
     "output_type": "execute_result"
    }
   ],
   "source": [
    "train_labels "
   ]
  },
  {
   "cell_type": "code",
   "execution_count": 15,
   "metadata": {},
   "outputs": [
    {
     "data": {
      "text/plain": [
       "{'NORMAL': 0, 'PNEUMONIA': 1}"
      ]
     },
     "execution_count": 15,
     "metadata": {},
     "output_type": "execute_result"
    }
   ],
   "source": [
    "train_generator.class_indices "
   ]
  },
  {
   "cell_type": "code",
   "execution_count": 16,
   "metadata": {},
   "outputs": [
    {
     "data": {
      "text/plain": [
       "array([[1., 1., 1., 1., 1., 0., 1., 0., 0., 1., 1., 1., 1., 1., 0., 0.,\n",
       "        0., 1., 1., 1., 0., 1., 1., 1., 0., 1., 0., 1., 1., 0., 1., 1.,\n",
       "        1., 1., 0., 1., 1., 1., 1., 1., 1., 1., 1., 0., 0., 1., 1., 1.,\n",
       "        0., 1., 1., 0., 1., 1., 1., 1., 1., 1., 0., 1., 1., 1., 0., 1.,\n",
       "        1., 1., 0., 1., 1., 0., 1., 1., 1., 1., 0., 1., 1., 1., 1., 1.,\n",
       "        0., 1., 1., 1., 1., 1., 1., 1., 1., 1., 1., 0., 1., 1., 1., 0.,\n",
       "        1., 1., 1., 1., 1., 0., 1., 1., 1., 1., 1., 1., 1., 1., 0., 1.,\n",
       "        1., 1., 1., 1., 1., 1., 0., 0., 1., 1., 1., 0., 1., 1., 1., 1.,\n",
       "        1., 1., 1., 1., 1., 1., 1., 1., 1., 1., 1., 1., 0., 1., 0., 1.,\n",
       "        1., 1., 1., 1., 1., 1., 1., 0., 1., 1., 1., 0., 1., 1., 1., 1.,\n",
       "        1., 0., 1., 0., 1., 1., 1., 1., 1., 1., 0., 1., 1., 1., 1., 1.,\n",
       "        1., 1., 1., 0., 1., 1., 1., 1., 1., 1., 1., 1., 1., 1., 1., 1.,\n",
       "        1., 1., 1., 1., 1., 1., 1., 1., 1., 1., 1., 0., 1., 0., 1., 1.,\n",
       "        1., 1., 1., 1., 0., 1., 1., 1., 1., 1., 1., 0., 1., 0., 1., 1.,\n",
       "        1., 1., 0., 1., 1., 0., 1., 1., 0., 0., 0., 0., 1., 1., 1., 1.,\n",
       "        1., 1., 0., 1., 1., 1., 1., 1., 1., 1., 0., 1., 1., 1., 0., 1.,\n",
       "        0., 1., 1., 1., 0., 1., 1., 1., 1., 1., 1., 1., 1., 0., 1., 0.,\n",
       "        1., 1., 1., 1., 1., 1., 1., 1., 1., 1., 1., 1., 1., 0., 1., 0.,\n",
       "        1., 1., 1., 1., 0., 1., 1., 1., 1., 0., 0., 0., 1., 0., 0., 1.,\n",
       "        1., 0., 1., 1., 1., 1., 1., 1., 1., 1., 0., 1., 0., 1., 1., 0.,\n",
       "        0., 1., 1., 1., 1., 1., 1., 1., 0., 1., 1., 1., 1., 1., 1., 1.,\n",
       "        1., 1., 1., 1., 1., 0., 0., 1., 1., 1., 0., 1., 1., 1., 0., 0.,\n",
       "        1., 1., 1., 1., 1., 1., 1., 1., 0., 0., 1., 1., 1., 0., 1., 1.,\n",
       "        1., 0., 1., 1., 1., 1., 0., 0., 1., 1., 1., 1., 1., 1., 1., 1.,\n",
       "        1., 0., 1., 1., 1., 1., 1., 1., 1., 1., 1., 1., 1., 1., 1., 0.,\n",
       "        1., 1., 0., 1., 1., 1., 0., 1., 1., 0., 0., 1., 1., 1., 1., 0.,\n",
       "        1., 1., 1., 0., 1., 1., 0., 0., 0., 1., 1., 0., 1., 1., 0., 0.,\n",
       "        1., 1., 1., 1., 1., 0., 0., 1., 1., 1., 0., 1., 1., 1., 1., 0.,\n",
       "        1., 1., 1., 1., 1., 1., 1., 1., 1., 0., 1., 1., 1., 1., 1., 1.,\n",
       "        0., 1., 1., 0., 1., 0., 1., 1., 1., 1., 0., 1., 1., 1., 1., 1.,\n",
       "        1., 1., 1., 0., 1., 1., 1., 0., 1., 1., 1., 1., 1., 0., 1., 0.,\n",
       "        1., 1., 1., 1., 0., 0., 0., 1., 1., 1., 0., 1., 1., 1., 1., 0.,\n",
       "        1., 0., 1., 0., 1., 1., 1., 1., 1., 1., 1., 1., 1., 1., 1., 1.,\n",
       "        1., 1., 1., 1., 1., 1., 1., 1., 1., 1., 1., 1., 1., 1., 0., 1.,\n",
       "        1., 1., 1., 1., 0., 1., 1., 1., 1., 0., 1., 0., 1., 1., 1., 0.,\n",
       "        1., 1., 1., 0., 1., 1., 0., 0., 1., 1., 1., 1., 1., 1., 0., 1.,\n",
       "        0., 0., 1., 1., 0., 1., 0., 1., 1., 1., 1., 1., 1., 1., 1., 1.,\n",
       "        1., 1., 1., 1., 1., 0., 1., 1., 1., 1., 1., 1., 1., 1., 0., 1.,\n",
       "        1., 1., 1., 1., 1., 1., 1., 0., 1., 1., 0., 1., 1., 0., 1., 0.,\n",
       "        0., 1., 1., 0., 0., 0., 1., 1., 0., 0., 1., 1., 1., 1., 1., 0.,\n",
       "        1., 1., 1., 0., 1., 1., 1., 0., 0., 0., 0., 1., 0., 0., 1., 0.,\n",
       "        1., 1., 0., 1., 1., 1., 1., 1., 1., 1., 1., 1., 1., 1., 1., 1.,\n",
       "        1., 0., 1., 1., 1., 1., 1., 1., 0., 0., 0., 1., 1., 0., 1., 0.,\n",
       "        1., 1., 1., 1., 1., 1., 1., 1., 1., 1., 0., 1., 0., 1., 1., 1.,\n",
       "        0., 1., 0., 1., 1., 0., 0., 0., 1., 1., 1., 1., 0., 0., 1., 0.,\n",
       "        1., 1., 1., 1., 1., 1., 0., 1., 1., 0., 1., 0., 1., 0., 0., 1.,\n",
       "        1., 1., 1., 1., 0., 0., 1., 1., 1., 1., 1., 0., 0., 1., 0., 1.,\n",
       "        1., 1., 0., 1., 1., 1., 1., 1., 1., 1., 0., 1., 0., 1., 1., 1.,\n",
       "        0., 1., 1., 1., 1., 0., 1., 1., 1., 1., 1., 1., 0., 0., 0., 0.,\n",
       "        1., 1., 1., 0., 1., 1.]], dtype=float32)"
      ]
     },
     "execution_count": 16,
     "metadata": {},
     "output_type": "execute_result"
    }
   ],
   "source": [
    "train_labels_final = train_labels.T[[1]]\n",
    "train_labels_final"
   ]
  },
  {
   "cell_type": "code",
   "execution_count": 17,
   "metadata": {},
   "outputs": [
    {
     "data": {
      "text/plain": [
       "(1, 790)"
      ]
     },
     "execution_count": 17,
     "metadata": {},
     "output_type": "execute_result"
    }
   ],
   "source": [
    "np.shape(train_labels_final) "
   ]
  },
  {
   "cell_type": "code",
   "execution_count": 18,
   "metadata": {},
   "outputs": [
    {
     "data": {
      "text/plain": [
       "(1, 132)"
      ]
     },
     "execution_count": 18,
     "metadata": {},
     "output_type": "execute_result"
    }
   ],
   "source": [
    "test_labels_final = test_labels.T[[1]]\n",
    "np.shape(test_labels_final)"
   ]
  },
  {
   "cell_type": "code",
   "execution_count": 19,
   "metadata": {},
   "outputs": [
    {
     "data": {
      "image/png": "[encoded data removed]",
      "text/plain": [
       "<PIL.Image.Image image mode=RGB size=64x64 at 0x7F9006A90610>"
      ]
     },
     "execution_count": 19,
     "metadata": {},
     "output_type": "execute_result"
    }
   ],
   "source": [
    "array_to_img(train_images[240])"
   ]
  },
  {
   "cell_type": "code",
   "execution_count": 20,
   "metadata": {},
   "outputs": [
    {
     "data": {
      "text/plain": [
       "array([1.], dtype=float32)"
      ]
     },
     "execution_count": 20,
     "metadata": {},
     "output_type": "execute_result"
    }
   ],
   "source": [
    "train_labels_final[:,240]"
   ]
  },
  {
   "cell_type": "code",
   "execution_count": 21,
   "metadata": {},
   "outputs": [
    {
     "data": {
      "text/plain": [
       "numpy.ndarray"
      ]
     },
     "execution_count": 21,
     "metadata": {},
     "output_type": "execute_result"
    }
   ],
   "source": [
    "train_img_final = train_img_unrow/255\n",
    "test_img_final = test_img_unrow/255\n",
    "\n",
    "type(test_img_unrow)"
   ]
  },
  {
   "cell_type": "code",
   "execution_count": 22,
   "metadata": {},
   "outputs": [
    {
     "data": {
      "text/plain": [
       "array([[0.],\n",
       "       [0.],\n",
       "       [0.],\n",
       "       ...,\n",
       "       [0.],\n",
       "       [0.],\n",
       "       [0.]])"
      ]
     },
     "execution_count": 22,
     "metadata": {},
     "output_type": "execute_result"
    }
   ],
   "source": [
    "b = 0\n",
    "def init_w(n):\n",
    "    w = np.zeros((n,1))\n",
    "    return w\n",
    "w = init_w(64*64*3)\n",
    "w"
   ]
  },
  {
   "cell_type": "code",
   "execution_count": 23,
   "metadata": {},
   "outputs": [
    {
     "name": "stdout",
     "output_type": "stream",
     "text": [
      "[[-0.00242993 -0.03523402 -0.02065442 ... -0.00485986 -0.01287864\n",
      "  -0.0070468 ]\n",
      " [-0.00242993 -0.03523402 -0.02065442 ... -0.00485986 -0.01287864\n",
      "  -0.0070468 ]\n",
      " [-0.00242993 -0.03523402 -0.02065442 ... -0.00485986 -0.01287864\n",
      "  -0.0070468 ]\n",
      " ...\n",
      " [-0.00061476 -0.         -0.         ... -0.         -0.0035656\n",
      "  -0.        ]\n",
      " [-0.00061476 -0.         -0.         ... -0.         -0.0035656\n",
      "  -0.        ]\n",
      " [-0.00061476 -0.         -0.         ... -0.         -0.0035656\n",
      "  -0.        ]]\n",
      "-0.2670886075949367\n",
      "0.6931471805599452\n"
     ]
    }
   ],
   "source": [
    "def propagation(w,b,x,y):\n",
    "    l = x.shape[1]\n",
    "    y_hat = 1/(1+np.exp(-(np.dot(w.T,x) + b)))\n",
    "    cost = -(1/l) * np.sum(y*np.log(y_hat) + (1-y)*np.log(1-y_hat))\n",
    "    dw = (1/l) * x * np.dot(x,(y_hat - y).T)\n",
    "    db = (1/l) * np.sum(y_hat-y)\n",
    "    return dw, db, cost\n",
    "dw, db, cost = propagation(w,b,train_img_final,train_labels_final)\n",
    "print(dw)\n",
    "\n",
    "print(db)\n",
    "\n",
    "print(cost)"
   ]
  },
  {
   "cell_type": "code",
   "execution_count": 24,
   "metadata": {},
   "outputs": [
    {
     "name": "stdout",
     "output_type": "stream",
     "text": [
      "Cost after iteration 0: 0.693147\n",
      "Cost after iteration 50: 429.716670\n",
      "Cost after iteration 100: 426.576967\n",
      "Cost after iteration 150: 423.967288\n"
     ]
    }
   ],
   "source": [
    "def optimization(w, b, x, y, num_iterations, learning_rate, print_cost = False):\n",
    "    \n",
    "    costs = []\n",
    "    \n",
    "    for i in range(num_iterations):\n",
    "        dw, db, cost = propagation(w,b,x,y)\n",
    "        w = w - learning_rate * dw\n",
    "        b = b - learning_rate * db\n",
    "        \n",
    "        # Record the costs and print them every 50 iterations\n",
    "        if i % 50 == 0:\n",
    "            costs.append(cost)\n",
    "        if print_cost and i % 50 == 0:\n",
    "            print (\"Cost after iteration %i: %f\" %(i, cost))\n",
    "    \n",
    "    return w, b, costs\n",
    "w, b, costs = optimization(w, b, train_img_final, train_labels_final, \n",
    "                           num_iterations= 151, learning_rate = 0.0001, print_cost = True)"
   ]
  },
  {
   "cell_type": "code",
   "execution_count": 25,
   "metadata": {},
   "outputs": [],
   "source": [
    "def prediction(w, b, x):\n",
    "    l = x.shape[1]\n",
    "    y_prediction = np.zeros((1,l))\n",
    "    w = w.reshape(x.shape[0], -1)\n",
    "    y_hat = 1/(1+np.exp(-(np.dot(w.T,x) + b)))\n",
    "    p = y_hat\n",
    "    \n",
    "    for i in range(y_hat.shape[1]):\n",
    "        # Transform the probability into a binary classification using 0.5 as the cutoff\n",
    "        if (y_hat[0,i]>0.5):\n",
    "            y_prediction[0,i] = 1\n",
    "        else:\n",
    "            y_prediction[0,i] = 0\n",
    "    return y_prediction"
   ]
  },
  {
   "cell_type": "code",
   "execution_count": 26,
   "metadata": {},
   "outputs": [],
   "source": [
    "def model(x_train, y_train, x_test, y_test, num_iterations = 2000, learning_rate = 0.5, print_cost = False):\n",
    "\n",
    "    b = 0\n",
    "    w = init_w(np.shape(x_train)[0]) \n",
    "\n",
    "    # Gradient descent (≈ 1 line of code)\n",
    "    w, b, costs = optimization(w, b, x_train, y_train, num_iterations, learning_rate, print_cost)\n",
    "    \n",
    "    y_pred_test = prediction(w, b, x_test)\n",
    "    y_pred_train = prediction(w, b, x_train)\n",
    "\n",
    "    # Print train/test errors\n",
    "    print('train accuracy: {} %'.format(100 - np.mean(np.abs(y_pred_train - y_train)) * 100))\n",
    "    print('test accuracy: {} %'.format(100 - np.mean(np.abs(y_pred_test - y_test)) * 100))\n",
    "\n",
    "    output = {'costs': costs, \n",
    "              'y_pred_test': y_pred_test,  \n",
    "              'y_pred_train' : y_pred_train,  \n",
    "              'w' : w, \n",
    "              'b' : b, \n",
    "              'learning_rate' : learning_rate, \n",
    "              'num_iterations': num_iterations}\n",
    "    \n",
    "    return output"
   ]
  },
  {
   "cell_type": "code",
   "execution_count": 27,
   "metadata": {},
   "outputs": [
    {
     "name": "stdout",
     "output_type": "stream",
     "text": [
      "Cost after iteration 0: 0.693147\n",
      "Cost after iteration 50: 384.101867\n",
      "Cost after iteration 100: 314.952692\n",
      "Cost after iteration 150: 258.508431\n",
      "Cost after iteration 200: 228.370897\n",
      "Cost after iteration 250: 213.541781\n",
      "Cost after iteration 300: 201.910756\n",
      "Cost after iteration 350: 192.431914\n",
      "Cost after iteration 400: 184.490029\n",
      "Cost after iteration 450: 177.692883\n",
      "Cost after iteration 500: 171.777349\n",
      "Cost after iteration 550: 166.559378\n",
      "Cost after iteration 600: 161.905701\n",
      "Cost after iteration 650: 157.716974\n",
      "Cost after iteration 700: 153.917294\n",
      "Cost after iteration 750: 150.447437\n",
      "Cost after iteration 800: 147.260345\n",
      "Cost after iteration 850: 144.318036\n",
      "Cost after iteration 900: 141.589424\n",
      "Cost after iteration 950: 139.048764\n",
      "train accuracy: 94.81012658227849 %\n",
      "test accuracy: 79.54545454545455 %\n"
     ]
    }
   ],
   "source": [
    "output = model(train_img_final, train_labels_final, test_img_final, test_labels_final,\n",
    "               num_iterations=1000, learning_rate=0.005, print_cost=True)"
   ]
  },
  {
   "cell_type": "code",
   "execution_count": null,
   "metadata": {},
   "outputs": [],
   "source": [
    "train_img_final.shape[0]"
   ]
  },
  {
   "cell_type": "markdown",
   "metadata": {},
   "source": [
    "### 3.21 The 4 C's of Data Cleaning: Correcting, Completing, Creating, and Converting <a class=\"anchor\" id=\"4C\"></a>"
   ]
  },
  {
   "cell_type": "markdown",
   "metadata": {},
   "source": [
    "### 3.22 Clean Data <a class=\"anchor\" id=\"Clean-Data\"></a>"
   ]
  },
  {
   "cell_type": "markdown",
   "metadata": {},
   "source": [
    "### 3.23 Convert Formats <a class=\"anchor\" id=\"Convert-Formats\"></a>"
   ]
  },
  {
   "cell_type": "markdown",
   "metadata": {},
   "source": [
    "### 3.24 Da-Double Check Cleaned Data <a class=\"anchor\" id=\"Da-Double-Check-Cleaned-Data\"></a>"
   ]
  },
  {
   "cell_type": "markdown",
   "metadata": {},
   "source": [
    "### 3.25 Split Training and Testing Data <a class=\"anchor\" id=\"Split-Training-and-Testing-Data\"></a>"
   ]
  },
  {
   "cell_type": "markdown",
   "metadata": {},
   "source": [
    "# Step 4: Perform Exploratory Analysis with Statistics <a class=\"anchor\" id=\"Perform-Exploratory-Analysis-with-Statistics\"></a>"
   ]
  },
  {
   "cell_type": "markdown",
   "metadata": {},
   "source": [
    "# Step 5: Model Data <a class=\"anchor\" id=\"Model-Data\"></a>"
   ]
  },
  {
   "cell_type": "markdown",
   "metadata": {},
   "source": [
    "### 5.11 Model Performance with Cross-Validation (CV) <a class=\"anchor\" id=\"CV\"></a>"
   ]
  },
  {
   "cell_type": "markdown",
   "metadata": {},
   "source": [
    "### 5.12 Tune Model with Hyper-Parameters <a class=\"anchor\" id=\"Tune-Model-with-Hyper-Parameters\"></a>"
   ]
  },
  {
   "cell_type": "markdown",
   "metadata": {},
   "source": [
    "### 5.13 Tune Model with Feature Selection <a class=\"anchor\" id=\"Tune-Model-with-Feature-Selection\"></a>"
   ]
  },
  {
   "cell_type": "markdown",
   "metadata": {},
   "source": [
    "# Step 6: Validate and Implement <a class=\"anchor\" id=\"Validate-and-Implement\"></a>"
   ]
  },
  {
   "cell_type": "markdown",
   "metadata": {},
   "source": [
    "# Step 7: Optimize and Strategize<a class=\"anchor\" id=\"Optimize-and-Strategize\"></a>"
   ]
  },
  {
   "cell_type": "code",
   "execution_count": null,
   "metadata": {},
   "outputs": [],
   "source": []
  }
 ],
 "metadata": {
  "interpreter": {
   "hash": "2700375e02ad74d7fa19bf39b9bbaacee623ff18e8d83a1c706494d7922e527a"
  },
  "kernelspec": {
   "display_name": "Python 3",
   "language": "python",
   "name": "python3"
  },
  "language_info": {
   "codemirror_mode": {
    "name": "ipython",
    "version": 3
   },
   "file_extension": ".py",
   "mimetype": "text/x-python",
   "name": "python",
   "nbconvert_exporter": "python",
   "pygments_lexer": "ipython3",
   "version": "3.8.5"
  }
 },
 "nbformat": 4,
 "nbformat_minor": 4
}
